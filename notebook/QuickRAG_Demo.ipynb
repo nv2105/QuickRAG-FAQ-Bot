{
 "cells": [
  {
   "cell_type": "markdown",
   "id": "caec68e8",
   "metadata": {},
   "source": [
    "## cell 1 (install):\n"
   ]
  },
  {
   "cell_type": "code",
   "execution_count": null,
   "id": "93a509a1",
   "metadata": {},
   "outputs": [
    {
     "name": "stdout",
     "output_type": "stream",
     "text": [
      "Requirement already satisfied: python-dotenv in d:\\naman\\projects\\rag\\quickrag-faq-bot\\venv\\lib\\site-packages (from -r ../requirements.txt (line 1)) (1.1.1)\n",
      "Requirement already satisfied: pandas in d:\\naman\\projects\\rag\\quickrag-faq-bot\\venv\\lib\\site-packages (from -r ../requirements.txt (line 2)) (2.3.2)\n",
      "Requirement already satisfied: numpy in d:\\naman\\projects\\rag\\quickrag-faq-bot\\venv\\lib\\site-packages (from -r ../requirements.txt (line 3)) (2.3.3)\n",
      "Requirement already satisfied: sentence-transformers in d:\\naman\\projects\\rag\\quickrag-faq-bot\\venv\\lib\\site-packages (from -r ../requirements.txt (line 4)) (5.1.0)\n",
      "Requirement already satisfied: qdrant-client in d:\\naman\\projects\\rag\\quickrag-faq-bot\\venv\\lib\\site-packages (from -r ../requirements.txt (line 5)) (1.15.1)\n",
      "Requirement already satisfied: groq in d:\\naman\\projects\\rag\\quickrag-faq-bot\\venv\\lib\\site-packages (from -r ../requirements.txt (line 6)) (0.31.1)\n",
      "Requirement already satisfied: transformers in d:\\naman\\projects\\rag\\quickrag-faq-bot\\venv\\lib\\site-packages (from -r ../requirements.txt (line 7)) (4.56.1)\n",
      "Requirement already satisfied: torch in d:\\naman\\projects\\rag\\quickrag-faq-bot\\venv\\lib\\site-packages (from -r ../requirements.txt (line 8)) (2.8.0)\n",
      "Requirement already satisfied: tqdm in d:\\naman\\projects\\rag\\quickrag-faq-bot\\venv\\lib\\site-packages (from -r ../requirements.txt (line 9)) (4.67.1)\n",
      "Requirement already satisfied: python-dateutil>=2.8.2 in d:\\naman\\projects\\rag\\quickrag-faq-bot\\venv\\lib\\site-packages (from pandas->-r ../requirements.txt (line 2)) (2.9.0.post0)\n",
      "Requirement already satisfied: pytz>=2020.1 in d:\\naman\\projects\\rag\\quickrag-faq-bot\\venv\\lib\\site-packages (from pandas->-r ../requirements.txt (line 2)) (2025.2)\n",
      "Requirement already satisfied: tzdata>=2022.7 in d:\\naman\\projects\\rag\\quickrag-faq-bot\\venv\\lib\\site-packages (from pandas->-r ../requirements.txt (line 2)) (2025.2)\n",
      "Requirement already satisfied: scikit-learn in d:\\naman\\projects\\rag\\quickrag-faq-bot\\venv\\lib\\site-packages (from sentence-transformers->-r ../requirements.txt (line 4)) (1.7.2)\n",
      "Requirement already satisfied: scipy in d:\\naman\\projects\\rag\\quickrag-faq-bot\\venv\\lib\\site-packages (from sentence-transformers->-r ../requirements.txt (line 4)) (1.16.2)\n",
      "Requirement already satisfied: huggingface-hub>=0.20.0 in d:\\naman\\projects\\rag\\quickrag-faq-bot\\venv\\lib\\site-packages (from sentence-transformers->-r ../requirements.txt (line 4)) (0.34.4)\n",
      "Requirement already satisfied: Pillow in d:\\naman\\projects\\rag\\quickrag-faq-bot\\venv\\lib\\site-packages (from sentence-transformers->-r ../requirements.txt (line 4)) (11.3.0)\n",
      "Requirement already satisfied: typing_extensions>=4.5.0 in d:\\naman\\projects\\rag\\quickrag-faq-bot\\venv\\lib\\site-packages (from sentence-transformers->-r ../requirements.txt (line 4)) (4.15.0)\n",
      "Requirement already satisfied: grpcio>=1.41.0 in d:\\naman\\projects\\rag\\quickrag-faq-bot\\venv\\lib\\site-packages (from qdrant-client->-r ../requirements.txt (line 5)) (1.74.0)\n",
      "Requirement already satisfied: httpx>=0.20.0 in d:\\naman\\projects\\rag\\quickrag-faq-bot\\venv\\lib\\site-packages (from httpx[http2]>=0.20.0->qdrant-client->-r ../requirements.txt (line 5)) (0.28.1)\n",
      "Requirement already satisfied: portalocker<4.0,>=2.7.0 in d:\\naman\\projects\\rag\\quickrag-faq-bot\\venv\\lib\\site-packages (from qdrant-client->-r ../requirements.txt (line 5)) (3.2.0)\n",
      "Requirement already satisfied: protobuf>=3.20.0 in d:\\naman\\projects\\rag\\quickrag-faq-bot\\venv\\lib\\site-packages (from qdrant-client->-r ../requirements.txt (line 5)) (6.32.1)\n",
      "Requirement already satisfied: pydantic!=2.0.*,!=2.1.*,!=2.2.0,>=1.10.8 in d:\\naman\\projects\\rag\\quickrag-faq-bot\\venv\\lib\\site-packages (from qdrant-client->-r ../requirements.txt (line 5)) (2.11.9)\n",
      "Requirement already satisfied: urllib3<3,>=1.26.14 in d:\\naman\\projects\\rag\\quickrag-faq-bot\\venv\\lib\\site-packages (from qdrant-client->-r ../requirements.txt (line 5)) (2.5.0)\n",
      "Requirement already satisfied: anyio<5,>=3.5.0 in d:\\naman\\projects\\rag\\quickrag-faq-bot\\venv\\lib\\site-packages (from groq->-r ../requirements.txt (line 6)) (4.10.0)\n",
      "Requirement already satisfied: distro<2,>=1.7.0 in d:\\naman\\projects\\rag\\quickrag-faq-bot\\venv\\lib\\site-packages (from groq->-r ../requirements.txt (line 6)) (1.9.0)\n",
      "Requirement already satisfied: sniffio in d:\\naman\\projects\\rag\\quickrag-faq-bot\\venv\\lib\\site-packages (from groq->-r ../requirements.txt (line 6)) (1.3.1)\n",
      "Requirement already satisfied: filelock in d:\\naman\\projects\\rag\\quickrag-faq-bot\\venv\\lib\\site-packages (from transformers->-r ../requirements.txt (line 7)) (3.19.1)\n",
      "Requirement already satisfied: packaging>=20.0 in d:\\naman\\projects\\rag\\quickrag-faq-bot\\venv\\lib\\site-packages (from transformers->-r ../requirements.txt (line 7)) (25.0)\n",
      "Requirement already satisfied: pyyaml>=5.1 in d:\\naman\\projects\\rag\\quickrag-faq-bot\\venv\\lib\\site-packages (from transformers->-r ../requirements.txt (line 7)) (6.0.2)\n",
      "Requirement already satisfied: regex!=2019.12.17 in d:\\naman\\projects\\rag\\quickrag-faq-bot\\venv\\lib\\site-packages (from transformers->-r ../requirements.txt (line 7)) (2025.9.1)\n",
      "Requirement already satisfied: requests in d:\\naman\\projects\\rag\\quickrag-faq-bot\\venv\\lib\\site-packages (from transformers->-r ../requirements.txt (line 7)) (2.32.5)\n",
      "Requirement already satisfied: tokenizers<=0.23.0,>=0.22.0 in d:\\naman\\projects\\rag\\quickrag-faq-bot\\venv\\lib\\site-packages (from transformers->-r ../requirements.txt (line 7)) (0.22.0)\n",
      "Requirement already satisfied: safetensors>=0.4.3 in d:\\naman\\projects\\rag\\quickrag-faq-bot\\venv\\lib\\site-packages (from transformers->-r ../requirements.txt (line 7)) (0.6.2)\n",
      "Requirement already satisfied: sympy>=1.13.3 in d:\\naman\\projects\\rag\\quickrag-faq-bot\\venv\\lib\\site-packages (from torch->-r ../requirements.txt (line 8)) (1.14.0)\n",
      "Requirement already satisfied: networkx in d:\\naman\\projects\\rag\\quickrag-faq-bot\\venv\\lib\\site-packages (from torch->-r ../requirements.txt (line 8)) (3.5)\n",
      "Requirement already satisfied: jinja2 in d:\\naman\\projects\\rag\\quickrag-faq-bot\\venv\\lib\\site-packages (from torch->-r ../requirements.txt (line 8)) (3.1.6)\n",
      "Requirement already satisfied: fsspec in d:\\naman\\projects\\rag\\quickrag-faq-bot\\venv\\lib\\site-packages (from torch->-r ../requirements.txt (line 8)) (2025.9.0)\n",
      "Requirement already satisfied: setuptools in d:\\naman\\projects\\rag\\quickrag-faq-bot\\venv\\lib\\site-packages (from torch->-r ../requirements.txt (line 8)) (80.9.0)\n",
      "Requirement already satisfied: colorama in d:\\naman\\projects\\rag\\quickrag-faq-bot\\venv\\lib\\site-packages (from tqdm->-r ../requirements.txt (line 9)) (0.4.6)\n",
      "Requirement already satisfied: idna>=2.8 in d:\\naman\\projects\\rag\\quickrag-faq-bot\\venv\\lib\\site-packages (from anyio<5,>=3.5.0->groq->-r ../requirements.txt (line 6)) (3.10)\n",
      "Requirement already satisfied: certifi in d:\\naman\\projects\\rag\\quickrag-faq-bot\\venv\\lib\\site-packages (from httpx>=0.20.0->httpx[http2]>=0.20.0->qdrant-client->-r ../requirements.txt (line 5)) (2025.8.3)\n",
      "Requirement already satisfied: httpcore==1.* in d:\\naman\\projects\\rag\\quickrag-faq-bot\\venv\\lib\\site-packages (from httpx>=0.20.0->httpx[http2]>=0.20.0->qdrant-client->-r ../requirements.txt (line 5)) (1.0.9)\n",
      "Requirement already satisfied: h11>=0.16 in d:\\naman\\projects\\rag\\quickrag-faq-bot\\venv\\lib\\site-packages (from httpcore==1.*->httpx>=0.20.0->httpx[http2]>=0.20.0->qdrant-client->-r ../requirements.txt (line 5)) (0.16.0)\n",
      "Requirement already satisfied: h2<5,>=3 in d:\\naman\\projects\\rag\\quickrag-faq-bot\\venv\\lib\\site-packages (from httpx[http2]>=0.20.0->qdrant-client->-r ../requirements.txt (line 5)) (4.3.0)\n",
      "Requirement already satisfied: pywin32>=226 in d:\\naman\\projects\\rag\\quickrag-faq-bot\\venv\\lib\\site-packages (from portalocker<4.0,>=2.7.0->qdrant-client->-r ../requirements.txt (line 5)) (311)\n",
      "Requirement already satisfied: annotated-types>=0.6.0 in d:\\naman\\projects\\rag\\quickrag-faq-bot\\venv\\lib\\site-packages (from pydantic!=2.0.*,!=2.1.*,!=2.2.0,>=1.10.8->qdrant-client->-r ../requirements.txt (line 5)) (0.7.0)\n",
      "Requirement already satisfied: pydantic-core==2.33.2 in d:\\naman\\projects\\rag\\quickrag-faq-bot\\venv\\lib\\site-packages (from pydantic!=2.0.*,!=2.1.*,!=2.2.0,>=1.10.8->qdrant-client->-r ../requirements.txt (line 5)) (2.33.2)\n",
      "Requirement already satisfied: typing-inspection>=0.4.0 in d:\\naman\\projects\\rag\\quickrag-faq-bot\\venv\\lib\\site-packages (from pydantic!=2.0.*,!=2.1.*,!=2.2.0,>=1.10.8->qdrant-client->-r ../requirements.txt (line 5)) (0.4.1)\n",
      "Requirement already satisfied: six>=1.5 in d:\\naman\\projects\\rag\\quickrag-faq-bot\\venv\\lib\\site-packages (from python-dateutil>=2.8.2->pandas->-r ../requirements.txt (line 2)) (1.17.0)\n",
      "Requirement already satisfied: mpmath<1.4,>=1.1.0 in d:\\naman\\projects\\rag\\quickrag-faq-bot\\venv\\lib\\site-packages (from sympy>=1.13.3->torch->-r ../requirements.txt (line 8)) (1.3.0)\n",
      "Requirement already satisfied: MarkupSafe>=2.0 in d:\\naman\\projects\\rag\\quickrag-faq-bot\\venv\\lib\\site-packages (from jinja2->torch->-r ../requirements.txt (line 8)) (3.0.2)\n",
      "Requirement already satisfied: charset_normalizer<4,>=2 in d:\\naman\\projects\\rag\\quickrag-faq-bot\\venv\\lib\\site-packages (from requests->transformers->-r ../requirements.txt (line 7)) (3.4.3)\n",
      "Requirement already satisfied: joblib>=1.2.0 in d:\\naman\\projects\\rag\\quickrag-faq-bot\\venv\\lib\\site-packages (from scikit-learn->sentence-transformers->-r ../requirements.txt (line 4)) (1.5.2)\n",
      "Requirement already satisfied: threadpoolctl>=3.1.0 in d:\\naman\\projects\\rag\\quickrag-faq-bot\\venv\\lib\\site-packages (from scikit-learn->sentence-transformers->-r ../requirements.txt (line 4)) (3.6.0)\n",
      "Requirement already satisfied: hyperframe<7,>=6.1 in d:\\naman\\projects\\rag\\quickrag-faq-bot\\venv\\lib\\site-packages (from h2<5,>=3->httpx[http2]>=0.20.0->qdrant-client->-r ../requirements.txt (line 5)) (6.1.0)\n",
      "Requirement already satisfied: hpack<5,>=4.1 in d:\\naman\\projects\\rag\\quickrag-faq-bot\\venv\\lib\\site-packages (from h2<5,>=3->httpx[http2]>=0.20.0->qdrant-client->-r ../requirements.txt (line 5)) (4.1.0)\n"
     ]
    },
    {
     "name": "stderr",
     "output_type": "stream",
     "text": [
      "\n",
      "[notice] A new release of pip is available: 24.2 -> 25.2\n",
      "[notice] To update, run: python.exe -m pip install --upgrade pip\n"
     ]
    }
   ],
   "source": [
    "!pip install -r ../requirements.txt\n",
    "\n",
    "print(\"[LOG] Requirements installed.\")"
   ]
  },
  {
   "cell_type": "markdown",
   "id": "e814a3ae",
   "metadata": {},
   "source": [
    "## Cell 2 (load env safely):"
   ]
  },
  {
   "cell_type": "code",
   "execution_count": null,
   "id": "5b76afbf",
   "metadata": {},
   "outputs": [],
   "source": [
    "from dotenv import load_dotenv\n",
    "import os, getpass\n",
    "\n",
    "load_dotenv()\n",
    "\n",
    "print(\"[LOG] .env loaded.\")\n",
    "\n",
    "# prefer .env; if not present, prompt\n",
    "if not os.getenv(\"QDRANT_URL\"):\n",
    "    print(\"QDRANT_URL not found in .env. You can paste it now (input won't be saved):\")\n",
    "    os.environ[\"QDRANT_URL\"] = getpass.getpass(\"QDRANT_URL: \")\n",
    "\n",
    "if not os.getenv(\"QDRANT_API_KEY\"):\n",
    "    os.environ[\"QDRANT_API_KEY\"] = getpass.getpass(\"QDRANT_API_KEY: \")\n",
    "\n",
    "if not os.getenv(\"GROQ_API_KEY\"):\n",
    "    print(\"If you want to use Groq API (recommended for better generation) paste key now; or leave blank to use local fallback.\")\n",
    "    os.environ[\"GROQ_API_KEY\"] = getpass.getpass(\"GROQ_API_KEY (optional): \")\n",
    "\n",
    "print(\"[LOG] QDRANT_URL present:\", bool(os.getenv(\"QDRANT_URL\")))\n",
    "print(\"[LOG] QDRANT_API_KEY present:\", bool(os.getenv(\"QDRANT_API_KEY\")))\n",
    "print(\"[LOG] GROQ_API_KEY present:\", bool(os.getenv(\"GROQ_API_KEY\")))"
   ]
  },
  {
   "cell_type": "markdown",
   "id": "1f001112",
   "metadata": {},
   "source": [
    "## Cell 3 (index data):\n"
   ]
  },
  {
   "cell_type": "code",
   "execution_count": null,
   "id": "54d20e0a",
   "metadata": {},
   "outputs": [],
   "source": [
    "# run index (this will use Qdrant Cloud by default)\n",
    "\n",
    "import pandas as pd\n",
    "\n",
    "df = pd.read_csv(\"../data/rag_optimized_5000.csv\")\n",
    "\n",
    "print(f\"[LOG] Loaded {len(df)} rows from CSV.\")\n",
    "\n",
    "!python ../src/load_data.py --csv ../data/rag_optimized_5000.csv --max 1000\n",
    "\n",
    "# remove --max to index all\n",
    "\n",
    "print(\"[LOG] Indexing script executed.\")"
   ]
  },
  {
   "cell_type": "markdown",
   "id": "95bb07a4",
   "metadata": {},
   "source": [
    "##  Cell 4 (inference example):"
   ]
  },
  {
   "cell_type": "code",
   "execution_count": null,
   "id": "9a377c3c",
   "metadata": {},
   "outputs": [],
   "source": [
    "from src.rag import RAG\n",
    "\n",
    "rag = RAG(use_qdrant=True)  # set False for local DB\n",
    "\n",
    "query = \"How do I reset my password?\"\n",
    "\n",
    "print(\"[LOG] Query:\", query)\n",
    "\n",
    "retrieved = rag.retrieve(query, top_k=5)\n",
    "\n",
    "print(\"[LOG] Retrieved context:\")\n",
    "\n",
    "for i, doc in enumerate(retrieved):\n",
    "\n",
    "    print(f\"Doc {i+1}:\", doc[:120], \"...\")\n",
    "\n",
    "print(\"Answer:\\n\")\n",
    "\n",
    "answer = rag.answer(query, top_k=5)\n",
    "\n",
    "print(answer)"
   ]
  },
  {
   "cell_type": "markdown",
   "id": "7624e0d6",
   "metadata": {},
   "source": [
    "## Cell 5 (local fallback generation demo):"
   ]
  },
  {
   "cell_type": "code",
   "execution_count": null,
   "id": "339bb970",
   "metadata": {},
   "outputs": [],
   "source": [
    "rag_local = RAG(use_qdrant=False)  # local in-memory DB\n",
    "\n",
    "# index a few docs quickly\n",
    "\n",
    "from src.embeddings import Embedder\n",
    "\n",
    "embedder = Embedder()\n",
    "\n",
    "sample_docs = [\n",
    "    \"How to reset password: go to portal -> forgot password -> follow instructions.\",\n",
    "    \"Library hours are 9am-9pm Monday-Friday, 10am-6pm on weekends.\"\n",
    "\n",
    "]\n",
    "\n",
    "print(f\"[LOG] Sample docs: {len(sample_docs)}\")\n",
    "\n",
    "embs = embedder.embed(sample_docs)\n",
    "\n",
    "from src.db_local import InMemoryDB\n",
    "\n",
    "db = InMemoryDB()\n",
    "\n",
    "db.upsert(sample_docs, embs)\n",
    "\n",
    "rag_local.db = db\n",
    "\n",
    "print(\"[LOG] Local DB indexed.\")\n",
    "\n",
    "retrieved_local = rag_local.db.search(embedder.embed([\"When is the library open?\"])[0], top_k=2)\n",
    "\n",
    "print(\"[LOG] Retrieved local context:\")\n",
    "\n",
    "for i, doc in enumerate(retrieved_local):\n",
    "\n",
    "    print(f\"Doc {i+1}:\", doc)\n",
    "\n",
    "print(rag_local.answer(\"When is the library open?\", top_k=2, use_groq_if_available=False))"
   ]
  }
 ],
 "metadata": {
  "kernelspec": {
   "display_name": "venv",
   "language": "python",
   "name": "python3"
  },
  "language_info": {
   "codemirror_mode": {
    "name": "ipython",
    "version": 3
   },
   "file_extension": ".py",
   "mimetype": "text/x-python",
   "name": "python",
   "nbconvert_exporter": "python",
   "pygments_lexer": "ipython3",
   "version": "3.12.6"
  }
 },
 "nbformat": 4,
 "nbformat_minor": 5
}
