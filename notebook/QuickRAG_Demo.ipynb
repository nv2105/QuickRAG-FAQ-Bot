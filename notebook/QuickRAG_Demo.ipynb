{
 "cells": [
  {
   "cell_type": "markdown",
   "id": "caec68e8",
   "metadata": {},
   "source": [
    "## cell 1 (install):\n"
   ]
  },
  {
   "cell_type": "code",
   "execution_count": null,
   "id": "93a509a1",
   "metadata": {},
   "outputs": [
    {
     "ename": "",
     "evalue": "",
     "output_type": "error",
     "traceback": [
      "\u001b[1;31mRunning cells with 'venv (Python 3.12.6)' requires the ipykernel package.\n",
      "\u001b[1;31mInstall 'ipykernel' into the Python environment. \n",
      "\u001b[1;31mCommand: 'd:/Naman/Projects/RAG/QuickRAG-FAQ-Bot/venv/Scripts/python.exe -m pip install ipykernel -U --force-reinstall'"
     ]
    }
   ],
   "source": [
    "!pip install -r ../requirements.txt"
   ]
  },
  {
   "cell_type": "markdown",
   "id": "e814a3ae",
   "metadata": {},
   "source": [
    "## Cell 2 (load env safely):"
   ]
  },
  {
   "cell_type": "code",
   "execution_count": null,
   "id": "5b76afbf",
   "metadata": {},
   "outputs": [],
   "source": [
    "from dotenv import load_dotenv\n",
    "import os, getpass\n",
    "load_dotenv()\n",
    "\n",
    "# prefer .env; if not present, prompt\n",
    "if not os.getenv(\"QDRANT_URL\"):\n",
    "    print(\"QDRANT_URL not found in .env. You can paste it now (input won't be saved):\")\n",
    "    os.environ[\"QDRANT_URL\"] = getpass.getpass(\"QDRANT_URL: \")\n",
    "\n",
    "if not os.getenv(\"QDRANT_API_KEY\"):\n",
    "    os.environ[\"QDRANT_API_KEY\"] = getpass.getpass(\"QDRANT_API_KEY: \")\n",
    "\n",
    "if not os.getenv(\"GROQ_API_KEY\"):\n",
    "    print(\"If you want to use Groq API (recommended for better generation) paste key now; or leave blank to use local fallback.\")\n",
    "    os.environ[\"GROQ_API_KEY\"] = getpass.getpass(\"GROQ_API_KEY (optional): \")\n"
   ]
  },
  {
   "cell_type": "markdown",
   "id": "1f001112",
   "metadata": {},
   "source": [
    "## Cell 3 (index data):\n"
   ]
  },
  {
   "cell_type": "code",
   "execution_count": null,
   "id": "54d20e0a",
   "metadata": {},
   "outputs": [],
   "source": [
    "# run index (this will use Qdrant Cloud by default)\n",
    "!python ../src/load_data.py --csv ../data/rag_optimized_5000.csv --max 1000\n",
    "# remove --max to index all\n"
   ]
  },
  {
   "cell_type": "markdown",
   "id": "95bb07a4",
   "metadata": {},
   "source": [
    "##  Cell 4 (inference example):"
   ]
  },
  {
   "cell_type": "code",
   "execution_count": null,
   "id": "9a377c3c",
   "metadata": {},
   "outputs": [],
   "source": [
    "from src.rag import RAG\n",
    "rag = RAG(use_qdrant=True)  # set False for local DB\n",
    "query = \"How do I reset my password?\"\n",
    "print(\"Query:\", query)\n",
    "print(\"Answer:\\n\")\n",
    "print(rag.answer(query, top_k=5))\n"
   ]
  },
  {
   "cell_type": "markdown",
   "id": "7624e0d6",
   "metadata": {},
   "source": [
    "## Cell 5 (local fallback generation demo):"
   ]
  },
  {
   "cell_type": "code",
   "execution_count": null,
   "id": "339bb970",
   "metadata": {},
   "outputs": [],
   "source": [
    "rag_local = RAG(use_qdrant=False)  # local in-memory DB\n",
    "# index a few docs quickly\n",
    "from src.embeddings import Embedder\n",
    "embedder = Embedder()\n",
    "sample_docs = [\"How to reset password: go to portal -> forgot password -> follow instructions.\",\n",
    "               \"Library hours are 9am-9pm Monday-Friday, 10am-6pm on weekends.\"]\n",
    "embs = embedder.embed(sample_docs)\n",
    "from src.db_local import InMemoryDB\n",
    "db = InMemoryDB()\n",
    "db.upsert(sample_docs, embs)\n",
    "rag_local.db = db\n",
    "\n",
    "print(rag_local.answer(\"When is the library open?\", top_k=2, use_groq_if_available=False))\n"
   ]
  }
 ],
 "metadata": {
  "kernelspec": {
   "display_name": "venv",
   "language": "python",
   "name": "python3"
  },
  "language_info": {
   "name": "python",
   "version": "3.12.6"
  }
 },
 "nbformat": 4,
 "nbformat_minor": 5
}
