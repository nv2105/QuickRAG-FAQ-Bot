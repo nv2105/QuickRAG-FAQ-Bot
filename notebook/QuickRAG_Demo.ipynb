{
 "cells": [
  {
   "cell_type": "code",
   "execution_count": 1,
   "id": "93a509a1",
   "metadata": {},
   "outputs": [
    {
     "name": "stdout",
     "output_type": "stream",
     "text": [
      "Requirement already satisfied: python-dotenv in d:\\naman\\projects\\rag\\quickrag-faq-bot\\venv\\lib\\site-packages (from -r ../requirements.txt (line 1)) (1.1.1)\n",
      "Requirement already satisfied: pandas in d:\\naman\\projects\\rag\\quickrag-faq-bot\\venv\\lib\\site-packages (from -r ../requirements.txt (line 2)) (2.3.2)\n",
      "Requirement already satisfied: numpy in d:\\naman\\projects\\rag\\quickrag-faq-bot\\venv\\lib\\site-packages (from -r ../requirements.txt (line 3)) (2.3.3)\n",
      "Requirement already satisfied: sentence-transformers in d:\\naman\\projects\\rag\\quickrag-faq-bot\\venv\\lib\\site-packages (from -r ../requirements.txt (line 4)) (5.1.0)\n",
      "Requirement already satisfied: qdrant-client in d:\\naman\\projects\\rag\\quickrag-faq-bot\\venv\\lib\\site-packages (from -r ../requirements.txt (line 5)) (1.15.1)\n",
      "Requirement already satisfied: groq in d:\\naman\\projects\\rag\\quickrag-faq-bot\\venv\\lib\\site-packages (from -r ../requirements.txt (line 6)) (0.31.1)\n",
      "Requirement already satisfied: transformers in d:\\naman\\projects\\rag\\quickrag-faq-bot\\venv\\lib\\site-packages (from -r ../requirements.txt (line 7)) (4.56.1)\n",
      "Requirement already satisfied: torch in d:\\naman\\projects\\rag\\quickrag-faq-bot\\venv\\lib\\site-packages (from -r ../requirements.txt (line 8)) (2.8.0)\n",
      "Requirement already satisfied: tqdm in d:\\naman\\projects\\rag\\quickrag-faq-bot\\venv\\lib\\site-packages (from -r ../requirements.txt (line 9)) (4.67.1)\n",
      "Requirement already satisfied: python-dateutil>=2.8.2 in d:\\naman\\projects\\rag\\quickrag-faq-bot\\venv\\lib\\site-packages (from pandas->-r ../requirements.txt (line 2)) (2.9.0.post0)\n",
      "Requirement already satisfied: pytz>=2020.1 in d:\\naman\\projects\\rag\\quickrag-faq-bot\\venv\\lib\\site-packages (from pandas->-r ../requirements.txt (line 2)) (2025.2)\n",
      "Requirement already satisfied: tzdata>=2022.7 in d:\\naman\\projects\\rag\\quickrag-faq-bot\\venv\\lib\\site-packages (from pandas->-r ../requirements.txt (line 2)) (2025.2)\n",
      "Requirement already satisfied: scikit-learn in d:\\naman\\projects\\rag\\quickrag-faq-bot\\venv\\lib\\site-packages (from sentence-transformers->-r ../requirements.txt (line 4)) (1.7.2)\n",
      "Requirement already satisfied: scipy in d:\\naman\\projects\\rag\\quickrag-faq-bot\\venv\\lib\\site-packages (from sentence-transformers->-r ../requirements.txt (line 4)) (1.16.2)\n",
      "Requirement already satisfied: huggingface-hub>=0.20.0 in d:\\naman\\projects\\rag\\quickrag-faq-bot\\venv\\lib\\site-packages (from sentence-transformers->-r ../requirements.txt (line 4)) (0.34.4)\n",
      "Requirement already satisfied: Pillow in d:\\naman\\projects\\rag\\quickrag-faq-bot\\venv\\lib\\site-packages (from sentence-transformers->-r ../requirements.txt (line 4)) (11.3.0)\n",
      "Requirement already satisfied: typing_extensions>=4.5.0 in d:\\naman\\projects\\rag\\quickrag-faq-bot\\venv\\lib\\site-packages (from sentence-transformers->-r ../requirements.txt (line 4)) (4.15.0)\n",
      "Requirement already satisfied: grpcio>=1.41.0 in d:\\naman\\projects\\rag\\quickrag-faq-bot\\venv\\lib\\site-packages (from qdrant-client->-r ../requirements.txt (line 5)) (1.74.0)\n",
      "Requirement already satisfied: httpx>=0.20.0 in d:\\naman\\projects\\rag\\quickrag-faq-bot\\venv\\lib\\site-packages (from httpx[http2]>=0.20.0->qdrant-client->-r ../requirements.txt (line 5)) (0.28.1)\n",
      "Requirement already satisfied: portalocker<4.0,>=2.7.0 in d:\\naman\\projects\\rag\\quickrag-faq-bot\\venv\\lib\\site-packages (from qdrant-client->-r ../requirements.txt (line 5)) (3.2.0)\n",
      "Requirement already satisfied: protobuf>=3.20.0 in d:\\naman\\projects\\rag\\quickrag-faq-bot\\venv\\lib\\site-packages (from qdrant-client->-r ../requirements.txt (line 5)) (6.32.1)\n",
      "Requirement already satisfied: pydantic!=2.0.*,!=2.1.*,!=2.2.0,>=1.10.8 in d:\\naman\\projects\\rag\\quickrag-faq-bot\\venv\\lib\\site-packages (from qdrant-client->-r ../requirements.txt (line 5)) (2.11.9)\n",
      "Requirement already satisfied: urllib3<3,>=1.26.14 in d:\\naman\\projects\\rag\\quickrag-faq-bot\\venv\\lib\\site-packages (from qdrant-client->-r ../requirements.txt (line 5)) (2.5.0)\n",
      "Requirement already satisfied: anyio<5,>=3.5.0 in d:\\naman\\projects\\rag\\quickrag-faq-bot\\venv\\lib\\site-packages (from groq->-r ../requirements.txt (line 6)) (4.10.0)\n",
      "Requirement already satisfied: distro<2,>=1.7.0 in d:\\naman\\projects\\rag\\quickrag-faq-bot\\venv\\lib\\site-packages (from groq->-r ../requirements.txt (line 6)) (1.9.0)\n",
      "Requirement already satisfied: sniffio in d:\\naman\\projects\\rag\\quickrag-faq-bot\\venv\\lib\\site-packages (from groq->-r ../requirements.txt (line 6)) (1.3.1)\n",
      "Requirement already satisfied: filelock in d:\\naman\\projects\\rag\\quickrag-faq-bot\\venv\\lib\\site-packages (from transformers->-r ../requirements.txt (line 7)) (3.19.1)\n",
      "Requirement already satisfied: packaging>=20.0 in d:\\naman\\projects\\rag\\quickrag-faq-bot\\venv\\lib\\site-packages (from transformers->-r ../requirements.txt (line 7)) (25.0)\n",
      "Requirement already satisfied: pyyaml>=5.1 in d:\\naman\\projects\\rag\\quickrag-faq-bot\\venv\\lib\\site-packages (from transformers->-r ../requirements.txt (line 7)) (6.0.2)\n",
      "Requirement already satisfied: regex!=2019.12.17 in d:\\naman\\projects\\rag\\quickrag-faq-bot\\venv\\lib\\site-packages (from transformers->-r ../requirements.txt (line 7)) (2025.9.1)\n",
      "Requirement already satisfied: requests in d:\\naman\\projects\\rag\\quickrag-faq-bot\\venv\\lib\\site-packages (from transformers->-r ../requirements.txt (line 7)) (2.32.5)\n",
      "Requirement already satisfied: tokenizers<=0.23.0,>=0.22.0 in d:\\naman\\projects\\rag\\quickrag-faq-bot\\venv\\lib\\site-packages (from transformers->-r ../requirements.txt (line 7)) (0.22.0)\n",
      "Requirement already satisfied: safetensors>=0.4.3 in d:\\naman\\projects\\rag\\quickrag-faq-bot\\venv\\lib\\site-packages (from transformers->-r ../requirements.txt (line 7)) (0.6.2)\n",
      "Requirement already satisfied: sympy>=1.13.3 in d:\\naman\\projects\\rag\\quickrag-faq-bot\\venv\\lib\\site-packages (from torch->-r ../requirements.txt (line 8)) (1.14.0)\n",
      "Requirement already satisfied: networkx in d:\\naman\\projects\\rag\\quickrag-faq-bot\\venv\\lib\\site-packages (from torch->-r ../requirements.txt (line 8)) (3.5)\n",
      "Requirement already satisfied: jinja2 in d:\\naman\\projects\\rag\\quickrag-faq-bot\\venv\\lib\\site-packages (from torch->-r ../requirements.txt (line 8)) (3.1.6)\n",
      "Requirement already satisfied: fsspec in d:\\naman\\projects\\rag\\quickrag-faq-bot\\venv\\lib\\site-packages (from torch->-r ../requirements.txt (line 8)) (2025.3.0)\n",
      "Requirement already satisfied: setuptools in d:\\naman\\projects\\rag\\quickrag-faq-bot\\venv\\lib\\site-packages (from torch->-r ../requirements.txt (line 8)) (80.9.0)\n",
      "Requirement already satisfied: colorama in d:\\naman\\projects\\rag\\quickrag-faq-bot\\venv\\lib\\site-packages (from tqdm->-r ../requirements.txt (line 9)) (0.4.6)\n",
      "Requirement already satisfied: idna>=2.8 in d:\\naman\\projects\\rag\\quickrag-faq-bot\\venv\\lib\\site-packages (from anyio<5,>=3.5.0->groq->-r ../requirements.txt (line 6)) (3.10)\n",
      "Requirement already satisfied: certifi in d:\\naman\\projects\\rag\\quickrag-faq-bot\\venv\\lib\\site-packages (from httpx>=0.20.0->httpx[http2]>=0.20.0->qdrant-client->-r ../requirements.txt (line 5)) (2025.8.3)\n",
      "Requirement already satisfied: httpcore==1.* in d:\\naman\\projects\\rag\\quickrag-faq-bot\\venv\\lib\\site-packages (from httpx>=0.20.0->httpx[http2]>=0.20.0->qdrant-client->-r ../requirements.txt (line 5)) (1.0.9)\n",
      "Requirement already satisfied: h11>=0.16 in d:\\naman\\projects\\rag\\quickrag-faq-bot\\venv\\lib\\site-packages (from httpcore==1.*->httpx>=0.20.0->httpx[http2]>=0.20.0->qdrant-client->-r ../requirements.txt (line 5)) (0.16.0)\n",
      "Requirement already satisfied: h2<5,>=3 in d:\\naman\\projects\\rag\\quickrag-faq-bot\\venv\\lib\\site-packages (from httpx[http2]>=0.20.0->qdrant-client->-r ../requirements.txt (line 5)) (4.3.0)\n",
      "Requirement already satisfied: pywin32>=226 in d:\\naman\\projects\\rag\\quickrag-faq-bot\\venv\\lib\\site-packages (from portalocker<4.0,>=2.7.0->qdrant-client->-r ../requirements.txt (line 5)) (311)\n",
      "Requirement already satisfied: annotated-types>=0.6.0 in d:\\naman\\projects\\rag\\quickrag-faq-bot\\venv\\lib\\site-packages (from pydantic!=2.0.*,!=2.1.*,!=2.2.0,>=1.10.8->qdrant-client->-r ../requirements.txt (line 5)) (0.7.0)\n",
      "Requirement already satisfied: pydantic-core==2.33.2 in d:\\naman\\projects\\rag\\quickrag-faq-bot\\venv\\lib\\site-packages (from pydantic!=2.0.*,!=2.1.*,!=2.2.0,>=1.10.8->qdrant-client->-r ../requirements.txt (line 5)) (2.33.2)\n",
      "Requirement already satisfied: typing-inspection>=0.4.0 in d:\\naman\\projects\\rag\\quickrag-faq-bot\\venv\\lib\\site-packages (from pydantic!=2.0.*,!=2.1.*,!=2.2.0,>=1.10.8->qdrant-client->-r ../requirements.txt (line 5)) (0.4.1)\n",
      "Requirement already satisfied: six>=1.5 in d:\\naman\\projects\\rag\\quickrag-faq-bot\\venv\\lib\\site-packages (from python-dateutil>=2.8.2->pandas->-r ../requirements.txt (line 2)) (1.17.0)\n",
      "Requirement already satisfied: mpmath<1.4,>=1.1.0 in d:\\naman\\projects\\rag\\quickrag-faq-bot\\venv\\lib\\site-packages (from sympy>=1.13.3->torch->-r ../requirements.txt (line 8)) (1.3.0)\n",
      "Requirement already satisfied: MarkupSafe>=2.0 in d:\\naman\\projects\\rag\\quickrag-faq-bot\\venv\\lib\\site-packages (from jinja2->torch->-r ../requirements.txt (line 8)) (3.0.2)\n",
      "Requirement already satisfied: charset_normalizer<4,>=2 in d:\\naman\\projects\\rag\\quickrag-faq-bot\\venv\\lib\\site-packages (from requests->transformers->-r ../requirements.txt (line 7)) (3.4.3)\n",
      "Requirement already satisfied: joblib>=1.2.0 in d:\\naman\\projects\\rag\\quickrag-faq-bot\\venv\\lib\\site-packages (from scikit-learn->sentence-transformers->-r ../requirements.txt (line 4)) (1.5.2)\n",
      "Requirement already satisfied: threadpoolctl>=3.1.0 in d:\\naman\\projects\\rag\\quickrag-faq-bot\\venv\\lib\\site-packages (from scikit-learn->sentence-transformers->-r ../requirements.txt (line 4)) (3.6.0)\n",
      "Requirement already satisfied: hyperframe<7,>=6.1 in d:\\naman\\projects\\rag\\quickrag-faq-bot\\venv\\lib\\site-packages (from h2<5,>=3->httpx[http2]>=0.20.0->qdrant-client->-r ../requirements.txt (line 5)) (6.1.0)\n",
      "Requirement already satisfied: hpack<5,>=4.1 in d:\\naman\\projects\\rag\\quickrag-faq-bot\\venv\\lib\\site-packages (from h2<5,>=3->httpx[http2]>=0.20.0->qdrant-client->-r ../requirements.txt (line 5)) (4.1.0)\n",
      "Note: you may need to restart the kernel to use updated packages.\n",
      "[LOG] Requirements installed.\n"
     ]
    },
    {
     "name": "stderr",
     "output_type": "stream",
     "text": [
      "\n",
      "[notice] A new release of pip is available: 24.2 -> 25.2\n",
      "[notice] To update, run: python.exe -m pip install --upgrade pip\n"
     ]
    }
   ],
   "source": [
    "%pip install -r ../requirements.txt\n",
    "\n",
    "\n",
    "print(\"[LOG] Requirements installed.\")"
   ]
  },
  {
   "cell_type": "code",
   "execution_count": 2,
   "id": "5b76afbf",
   "metadata": {},
   "outputs": [
    {
     "name": "stdout",
     "output_type": "stream",
     "text": [
      "[LOG] .env loaded.\n",
      "[LOG] Keys status -> Qdrant: True Groq: True\n"
     ]
    }
   ],
   "source": [
    "from dotenv import load_dotenv\n",
    "import os, getpass\n",
    "\n",
    "load_dotenv()\n",
    "print(\"[LOG] .env loaded.\")\n",
    "\n",
    "# Prompt only if missing\n",
    "for key in [\"QDRANT_URL\", \"QDRANT_API_KEY\", \"GROQ_API_KEY\"]:\n",
    "    if not os.getenv(key):\n",
    "        prompt_text = f\"{key} not found in .env. Paste it now (won't be saved):\"\n",
    "        os.environ[key] = getpass.getpass(prompt_text)\n",
    "\n",
    "# Ensure Qdrant and Groq keys exist\n",
    "if not os.getenv(\"QDRANT_URL\") or not os.getenv(\"QDRANT_API_KEY\"):\n",
    "    raise RuntimeError(\"Qdrant keys are required to run this notebook.\")\n",
    "if not os.getenv(\"GROQ_API_KEY\"):\n",
    "    print(\"[WARN] Groq key missing. Only local fallback generation will work (not recommended).\")\n",
    "\n",
    "print(\"[LOG] Keys status -> Qdrant:\", bool(os.getenv(\"QDRANT_URL\")), \n",
    "      \"Groq:\", bool(os.getenv(\"GROQ_API_KEY\")))\n",
    "\n"
   ]
  },
  {
   "cell_type": "code",
   "execution_count": 3,
   "id": "9d13bd91",
   "metadata": {},
   "outputs": [
    {
     "name": "stdout",
     "output_type": "stream",
     "text": [
      "[LOG] Loaded 5000 rows from CSV.\n",
      "[LOG] Indexing 5000 document chunks...\n",
      "[RAG] Indexing 5000 docs with batch_size=64\n",
      "[Embedder] Embedding 5000 texts with batch_size=64\n",
      "[Embedder] Batch 1: 64 texts\n",
      "[Embedder] Batch 2: 64 texts\n",
      "[Embedder] Batch 3: 64 texts\n",
      "[Embedder] Batch 4: 64 texts\n",
      "[Embedder] Batch 5: 64 texts\n",
      "[Embedder] Batch 6: 64 texts\n",
      "[Embedder] Batch 7: 64 texts\n",
      "[Embedder] Batch 8: 64 texts\n",
      "[Embedder] Batch 9: 64 texts\n",
      "[Embedder] Batch 10: 64 texts\n",
      "[Embedder] Batch 11: 64 texts\n",
      "[Embedder] Batch 12: 64 texts\n",
      "[Embedder] Batch 13: 64 texts\n",
      "[Embedder] Batch 14: 64 texts\n",
      "[Embedder] Batch 15: 64 texts\n",
      "[Embedder] Batch 16: 64 texts\n",
      "[Embedder] Batch 17: 64 texts\n",
      "[Embedder] Batch 18: 64 texts\n",
      "[Embedder] Batch 19: 64 texts\n",
      "[Embedder] Batch 20: 64 texts\n",
      "[Embedder] Batch 21: 64 texts\n",
      "[Embedder] Batch 22: 64 texts\n",
      "[Embedder] Batch 23: 64 texts\n",
      "[Embedder] Batch 24: 64 texts\n",
      "[Embedder] Batch 25: 64 texts\n",
      "[Embedder] Batch 26: 64 texts\n",
      "[Embedder] Batch 27: 64 texts\n",
      "[Embedder] Batch 28: 64 texts\n",
      "[Embedder] Batch 29: 64 texts\n",
      "[Embedder] Batch 30: 64 texts\n",
      "[Embedder] Batch 31: 64 texts\n",
      "[Embedder] Batch 32: 64 texts\n",
      "[Embedder] Batch 33: 64 texts\n",
      "[Embedder] Batch 34: 64 texts\n",
      "[Embedder] Batch 35: 64 texts\n",
      "[Embedder] Batch 36: 64 texts\n",
      "[Embedder] Batch 37: 64 texts\n",
      "[Embedder] Batch 38: 64 texts\n",
      "[Embedder] Batch 39: 64 texts\n",
      "[Embedder] Batch 40: 64 texts\n",
      "[Embedder] Batch 41: 64 texts\n",
      "[Embedder] Batch 42: 64 texts\n",
      "[Embedder] Batch 43: 64 texts\n",
      "[Embedder] Batch 44: 64 texts\n",
      "[Embedder] Batch 45: 64 texts\n",
      "[Embedder] Batch 46: 64 texts\n",
      "[Embedder] Batch 47: 64 texts\n",
      "[Embedder] Batch 48: 64 texts\n",
      "[Embedder] Batch 49: 64 texts\n",
      "[Embedder] Batch 50: 64 texts\n",
      "[Embedder] Batch 51: 64 texts\n",
      "[Embedder] Batch 52: 64 texts\n",
      "[Embedder] Batch 53: 64 texts\n",
      "[Embedder] Batch 54: 64 texts\n",
      "[Embedder] Batch 55: 64 texts\n",
      "[Embedder] Batch 56: 64 texts\n",
      "[Embedder] Batch 57: 64 texts\n",
      "[Embedder] Batch 58: 64 texts\n",
      "[Embedder] Batch 59: 64 texts\n",
      "[Embedder] Batch 60: 64 texts\n",
      "[Embedder] Batch 61: 64 texts\n",
      "[Embedder] Batch 62: 64 texts\n",
      "[Embedder] Batch 63: 64 texts\n",
      "[Embedder] Batch 64: 64 texts\n",
      "[Embedder] Batch 65: 64 texts\n",
      "[Embedder] Batch 66: 64 texts\n",
      "[Embedder] Batch 67: 64 texts\n",
      "[Embedder] Batch 68: 64 texts\n",
      "[Embedder] Batch 69: 64 texts\n",
      "[Embedder] Batch 70: 64 texts\n",
      "[Embedder] Batch 71: 64 texts\n",
      "[Embedder] Batch 72: 64 texts\n",
      "[Embedder] Batch 73: 64 texts\n",
      "[Embedder] Batch 74: 64 texts\n",
      "[Embedder] Batch 75: 64 texts\n",
      "[Embedder] Batch 76: 64 texts\n",
      "[Embedder] Batch 77: 64 texts\n",
      "[Embedder] Batch 78: 64 texts\n",
      "[Embedder] Batch 79: 8 texts\n",
      "[Embedder] Final embeddings shape: (5000, 384)\n",
      "[QdrantDB] Upserting 5000 docs in batches of 64\n",
      "[QdrantDB] Upserting batch ending at doc 64\n",
      "[QdrantDB] Upserting batch ending at doc 128\n",
      "[QdrantDB] Upserting batch ending at doc 192\n",
      "[QdrantDB] Upserting batch ending at doc 256\n",
      "[QdrantDB] Upserting batch ending at doc 320\n",
      "[QdrantDB] Upserting batch ending at doc 384\n",
      "[QdrantDB] Upserting batch ending at doc 448\n",
      "[QdrantDB] Upserting batch ending at doc 512\n",
      "[QdrantDB] Upserting batch ending at doc 576\n",
      "[QdrantDB] Upserting batch ending at doc 640\n",
      "[QdrantDB] Upserting batch ending at doc 704\n",
      "[QdrantDB] Upserting batch ending at doc 768\n",
      "[QdrantDB] Upserting batch ending at doc 832\n",
      "[QdrantDB] Upserting batch ending at doc 896\n",
      "[QdrantDB] Upserting batch ending at doc 960\n",
      "[QdrantDB] Upserting batch ending at doc 1024\n",
      "[QdrantDB] Upserting batch ending at doc 1088\n",
      "[QdrantDB] Upserting batch ending at doc 1152\n",
      "[QdrantDB] Upserting batch ending at doc 1216\n",
      "[QdrantDB] Upserting batch ending at doc 1280\n",
      "[QdrantDB] Upserting batch ending at doc 1344\n",
      "[QdrantDB] Upserting batch ending at doc 1408\n",
      "[QdrantDB] Upserting batch ending at doc 1472\n",
      "[QdrantDB] Upserting batch ending at doc 1536\n",
      "[QdrantDB] Upserting batch ending at doc 1600\n",
      "[QdrantDB] Upserting batch ending at doc 1664\n",
      "[QdrantDB] Upserting batch ending at doc 1728\n",
      "[QdrantDB] Upserting batch ending at doc 1792\n",
      "[QdrantDB] Upserting batch ending at doc 1856\n",
      "[QdrantDB] Upserting batch ending at doc 1920\n",
      "[QdrantDB] Upserting batch ending at doc 1984\n",
      "[QdrantDB] Upserting batch ending at doc 2048\n",
      "[QdrantDB] Upserting batch ending at doc 2112\n",
      "[QdrantDB] Upserting batch ending at doc 2176\n",
      "[QdrantDB] Upserting batch ending at doc 2240\n",
      "[QdrantDB] Upserting batch ending at doc 2304\n",
      "[QdrantDB] Upserting batch ending at doc 2368\n",
      "[QdrantDB] Upserting batch ending at doc 2432\n",
      "[QdrantDB] Upserting batch ending at doc 2496\n",
      "[QdrantDB] Upserting batch ending at doc 2560\n",
      "[QdrantDB] Upserting batch ending at doc 2624\n",
      "[QdrantDB] Upserting batch ending at doc 2688\n",
      "[QdrantDB] Upserting batch ending at doc 2752\n",
      "[QdrantDB] Upserting batch ending at doc 2816\n",
      "[QdrantDB] Upserting batch ending at doc 2880\n",
      "[QdrantDB] Upserting batch ending at doc 2944\n",
      "[QdrantDB] Upserting batch ending at doc 3008\n",
      "[QdrantDB] Upserting batch ending at doc 3072\n",
      "[QdrantDB] Upserting batch ending at doc 3136\n",
      "[QdrantDB] Upserting batch ending at doc 3200\n",
      "[QdrantDB] Upserting batch ending at doc 3264\n",
      "[QdrantDB] Upserting batch ending at doc 3328\n",
      "[QdrantDB] Upserting batch ending at doc 3392\n",
      "[QdrantDB] Upserting batch ending at doc 3456\n",
      "[QdrantDB] Upserting batch ending at doc 3520\n",
      "[QdrantDB] Upserting batch ending at doc 3584\n",
      "[QdrantDB] Upserting batch ending at doc 3648\n",
      "[QdrantDB] Upserting batch ending at doc 3712\n",
      "[QdrantDB] Upserting batch ending at doc 3776\n",
      "[QdrantDB] Upserting batch ending at doc 3840\n",
      "[QdrantDB] Upserting batch ending at doc 3904\n",
      "[QdrantDB] Upserting batch ending at doc 3968\n",
      "[QdrantDB] Upserting batch ending at doc 4032\n",
      "[QdrantDB] Upserting batch ending at doc 4096\n",
      "[QdrantDB] Upserting batch ending at doc 4160\n",
      "[QdrantDB] Upserting batch ending at doc 4224\n",
      "[QdrantDB] Upserting batch ending at doc 4288\n",
      "[QdrantDB] Upserting batch ending at doc 4352\n",
      "[QdrantDB] Upserting batch ending at doc 4416\n",
      "[QdrantDB] Upserting batch ending at doc 4480\n",
      "[QdrantDB] Upserting batch ending at doc 4544\n",
      "[QdrantDB] Upserting batch ending at doc 4608\n",
      "[QdrantDB] Upserting batch ending at doc 4672\n",
      "[QdrantDB] Upserting batch ending at doc 4736\n",
      "[QdrantDB] Upserting batch ending at doc 4800\n",
      "[QdrantDB] Upserting batch ending at doc 4864\n",
      "[QdrantDB] Upserting batch ending at doc 4928\n",
      "[QdrantDB] Upserting batch ending at doc 4992\n",
      "[QdrantDB] Upserting final batch of 8 docs\n",
      "[QdrantDB] Upsert complete.\n",
      "[RAG] Upsert complete.\n",
      "[LOG] Indexing complete. All docs should now be in Qdrant Cloud.\n",
      "[LOG] Indexing script executed. All docs should now be in Qdrant Cloud.\n"
     ]
    },
    {
     "name": "stderr",
     "output_type": "stream",
     "text": [
      "\n",
      "Embedding batches:   0%|          | 0/79 [00:00<?, ?it/s]\n",
      "Embedding batches:   1%|▏         | 1/79 [00:00<01:09,  1.13it/s]\n",
      "Embedding batches:   3%|▎         | 2/79 [00:01<01:00,  1.28it/s]\n",
      "Embedding batches:   4%|▍         | 3/79 [00:02<00:54,  1.39it/s]\n",
      "Embedding batches:   5%|▌         | 4/79 [00:02<00:52,  1.42it/s]\n",
      "Embedding batches:   6%|▋         | 5/79 [00:03<00:51,  1.44it/s]\n",
      "Embedding batches:   8%|▊         | 6/79 [00:04<00:51,  1.42it/s]\n",
      "Embedding batches:   9%|▉         | 7/79 [00:05<00:50,  1.43it/s]\n",
      "Embedding batches:  10%|█         | 8/79 [00:05<00:53,  1.33it/s]\n",
      "Embedding batches:  11%|█▏        | 9/79 [00:06<00:51,  1.37it/s]\n",
      "Embedding batches:  13%|█▎        | 10/79 [00:07<00:49,  1.39it/s]\n",
      "Embedding batches:  14%|█▍        | 11/79 [00:07<00:48,  1.40it/s]\n",
      "Embedding batches:  15%|█▌        | 12/79 [00:08<00:49,  1.34it/s]\n",
      "Embedding batches:  16%|█▋        | 13/79 [00:09<00:48,  1.36it/s]\n",
      "Embedding batches:  18%|█▊        | 14/79 [00:10<00:45,  1.43it/s]\n",
      "Embedding batches:  19%|█▉        | 15/79 [00:10<00:43,  1.49it/s]\n",
      "Embedding batches:  20%|██        | 16/79 [00:11<00:41,  1.52it/s]\n",
      "Embedding batches:  22%|██▏       | 17/79 [00:11<00:40,  1.53it/s]\n",
      "Embedding batches:  23%|██▎       | 18/79 [00:12<00:38,  1.58it/s]\n",
      "Embedding batches:  24%|██▍       | 19/79 [00:13<00:36,  1.64it/s]\n",
      "Embedding batches:  25%|██▌       | 20/79 [00:13<00:36,  1.64it/s]\n",
      "Embedding batches:  27%|██▋       | 21/79 [00:14<00:35,  1.65it/s]\n",
      "Embedding batches:  28%|██▊       | 22/79 [00:14<00:33,  1.68it/s]\n",
      "Embedding batches:  29%|██▉       | 23/79 [00:15<00:33,  1.69it/s]\n",
      "Embedding batches:  30%|███       | 24/79 [00:16<00:32,  1.71it/s]\n",
      "Embedding batches:  32%|███▏      | 25/79 [00:16<00:31,  1.71it/s]\n",
      "Embedding batches:  33%|███▎      | 26/79 [00:17<00:31,  1.68it/s]\n",
      "Embedding batches:  34%|███▍      | 27/79 [00:17<00:31,  1.66it/s]\n",
      "Embedding batches:  35%|███▌      | 28/79 [00:18<00:30,  1.66it/s]\n",
      "Embedding batches:  37%|███▋      | 29/79 [00:19<00:29,  1.67it/s]\n",
      "Embedding batches:  38%|███▊      | 30/79 [00:19<00:30,  1.60it/s]\n",
      "Embedding batches:  39%|███▉      | 31/79 [00:20<00:30,  1.56it/s]\n",
      "Embedding batches:  41%|████      | 32/79 [00:21<00:32,  1.44it/s]\n",
      "Embedding batches:  42%|████▏     | 33/79 [00:22<00:33,  1.39it/s]\n",
      "Embedding batches:  43%|████▎     | 34/79 [00:22<00:31,  1.41it/s]\n",
      "Embedding batches:  44%|████▍     | 35/79 [00:23<00:30,  1.43it/s]\n",
      "Embedding batches:  46%|████▌     | 36/79 [00:24<00:30,  1.40it/s]\n",
      "Embedding batches:  47%|████▋     | 37/79 [00:24<00:31,  1.34it/s]\n",
      "Embedding batches:  48%|████▊     | 38/79 [00:25<00:30,  1.35it/s]\n",
      "Embedding batches:  49%|████▉     | 39/79 [00:26<00:28,  1.39it/s]\n",
      "Embedding batches:  51%|█████     | 40/79 [00:27<00:27,  1.42it/s]\n",
      "Embedding batches:  52%|█████▏    | 41/79 [00:27<00:26,  1.42it/s]\n",
      "Embedding batches:  53%|█████▎    | 42/79 [00:28<00:25,  1.44it/s]\n",
      "Embedding batches:  54%|█████▍    | 43/79 [00:29<00:24,  1.44it/s]\n",
      "Embedding batches:  56%|█████▌    | 44/79 [00:30<00:26,  1.30it/s]\n",
      "Embedding batches:  57%|█████▋    | 45/79 [00:30<00:27,  1.24it/s]\n",
      "Embedding batches:  58%|█████▊    | 46/79 [00:31<00:25,  1.27it/s]\n",
      "Embedding batches:  59%|█████▉    | 47/79 [00:32<00:24,  1.30it/s]\n",
      "Embedding batches:  61%|██████    | 48/79 [00:33<00:23,  1.33it/s]\n",
      "Embedding batches:  62%|██████▏   | 49/79 [00:33<00:23,  1.29it/s]\n",
      "Embedding batches:  63%|██████▎   | 50/79 [00:34<00:21,  1.32it/s]\n",
      "Embedding batches:  65%|██████▍   | 51/79 [00:35<00:21,  1.32it/s]\n",
      "Embedding batches:  66%|██████▌   | 52/79 [00:36<00:19,  1.35it/s]\n",
      "Embedding batches:  67%|██████▋   | 53/79 [00:36<00:18,  1.39it/s]\n",
      "Embedding batches:  68%|██████▊   | 54/79 [00:37<00:18,  1.39it/s]\n",
      "Embedding batches:  70%|██████▉   | 55/79 [00:38<00:16,  1.43it/s]\n",
      "Embedding batches:  71%|███████   | 56/79 [00:38<00:15,  1.47it/s]\n",
      "Embedding batches:  72%|███████▏  | 57/79 [00:39<00:14,  1.48it/s]\n",
      "Embedding batches:  73%|███████▎  | 58/79 [00:40<00:14,  1.49it/s]\n",
      "Embedding batches:  75%|███████▍  | 59/79 [00:40<00:13,  1.51it/s]\n",
      "Embedding batches:  76%|███████▌  | 60/79 [00:41<00:12,  1.54it/s]\n",
      "Embedding batches:  77%|███████▋  | 61/79 [00:41<00:11,  1.58it/s]\n",
      "Embedding batches:  78%|███████▊  | 62/79 [00:42<00:11,  1.50it/s]\n",
      "Embedding batches:  80%|███████▉  | 63/79 [00:43<00:10,  1.47it/s]\n",
      "Embedding batches:  81%|████████  | 64/79 [00:44<00:10,  1.46it/s]\n",
      "Embedding batches:  82%|████████▏ | 65/79 [00:44<00:09,  1.42it/s]\n",
      "Embedding batches:  84%|████████▎ | 66/79 [00:45<00:09,  1.43it/s]\n",
      "Embedding batches:  85%|████████▍ | 67/79 [00:46<00:08,  1.42it/s]\n",
      "Embedding batches:  86%|████████▌ | 68/79 [00:47<00:07,  1.40it/s]\n",
      "Embedding batches:  87%|████████▋ | 69/79 [00:47<00:07,  1.41it/s]\n",
      "Embedding batches:  89%|████████▊ | 70/79 [00:48<00:06,  1.43it/s]\n",
      "Embedding batches:  90%|████████▉ | 71/79 [00:49<00:05,  1.43it/s]\n",
      "Embedding batches:  91%|█████████ | 72/79 [00:49<00:04,  1.43it/s]\n",
      "Embedding batches:  92%|█████████▏| 73/79 [00:50<00:04,  1.41it/s]\n",
      "Embedding batches:  94%|█████████▎| 74/79 [00:51<00:03,  1.43it/s]\n",
      "Embedding batches:  95%|█████████▍| 75/79 [00:51<00:02,  1.41it/s]\n",
      "Embedding batches:  96%|█████████▌| 76/79 [00:52<00:02,  1.37it/s]\n",
      "Embedding batches:  97%|█████████▋| 77/79 [00:53<00:01,  1.32it/s]\n",
      "Embedding batches:  99%|█████████▊| 78/79 [00:54<00:00,  1.28it/s]\n",
      "Embedding batches: 100%|██████████| 79/79 [00:54<00:00,  1.45it/s]\n"
     ]
    }
   ],
   "source": [
    "# Cell-3: Index data to Qdrant Cloud\n",
    "\n",
    "import os\n",
    "\n",
    "csv_path = \"../data/rag_optimized_5000.csv\"\n",
    "\n",
    "if not os.path.exists(csv_path):\n",
    "    raise FileNotFoundError(f\"CSV file not found at {csv_path}\")\n",
    "\n",
    "# Optional: quick check of CSV\n",
    "import pandas as pd\n",
    "df = pd.read_csv(csv_path)\n",
    "print(f\"[LOG] Loaded {len(df)} rows from CSV.\")\n",
    "\n",
    "# Run the indexing script with Qdrant only\n",
    "!python ../src/load_data.py --csv ../data/rag_optimized_5000.csv\n",
    "\n",
    "print(\"[LOG] Indexing script executed. All docs should now be in Qdrant Cloud.\")"
   ]
  },
  {
   "cell_type": "code",
   "execution_count": 4,
   "id": "80171af3",
   "metadata": {},
   "outputs": [
    {
     "name": "stdout",
     "output_type": "stream",
     "text": [
      "[LOG] src/ added to sys.path\n"
     ]
    }
   ],
   "source": [
    "import sys, os\n",
    "sys.path.append(os.path.abspath(\"../src\"))\n",
    "print(\"[LOG] src/ added to sys.path\")\n"
   ]
  },
  {
   "cell_type": "code",
   "execution_count": 5,
   "id": "9a377c3c",
   "metadata": {},
   "outputs": [
    {
     "name": "stderr",
     "output_type": "stream",
     "text": [
      "d:\\Naman\\Projects\\RAG\\QuickRAG-FAQ-Bot\\venv\\Lib\\site-packages\\tqdm\\auto.py:21: TqdmWarning: IProgress not found. Please update jupyter and ipywidgets. See https://ipywidgets.readthedocs.io/en/stable/user_install.html\n",
      "  from .autonotebook import tqdm as notebook_tqdm\n"
     ]
    },
    {
     "name": "stdout",
     "output_type": "stream",
     "text": [
      "[LOG] Query: How do I reset my password?\n",
      "[RAG] Retrieving top 5 docs for query: How do I reset my password?\n",
      "[Embedder] Embedding 1 texts with batch_size=64\n"
     ]
    },
    {
     "name": "stderr",
     "output_type": "stream",
     "text": [
      "Embedding batches: 100%|██████████| 1/1 [00:00<00:00, 38.56it/s]"
     ]
    },
    {
     "name": "stdout",
     "output_type": "stream",
     "text": [
      "[Embedder] Batch 1: 1 texts\n",
      "[Embedder] Final embeddings shape: (1, 384)\n",
      "[QdrantDB] Searching for top 5 docs.\n"
     ]
    },
    {
     "name": "stderr",
     "output_type": "stream",
     "text": [
      "\n"
     ]
    },
    {
     "name": "stdout",
     "output_type": "stream",
     "text": [
      "[QdrantDB] Found 0 hits.\n",
      "[RAG] Retrieved 0 docs.\n",
      "[LOG] Retrieved 0 docs:\n",
      "\n",
      "[LOG] Generating answer...\n",
      "[RAG] Answering query: How do I reset my password?\n",
      "[RAG] Retrieving top 5 docs for query: How do I reset my password?\n",
      "[Embedder] Embedding 1 texts with batch_size=64\n"
     ]
    },
    {
     "name": "stderr",
     "output_type": "stream",
     "text": [
      "Embedding batches: 100%|██████████| 1/1 [00:00<00:00, 111.10it/s]"
     ]
    },
    {
     "name": "stdout",
     "output_type": "stream",
     "text": [
      "[Embedder] Batch 1: 1 texts\n",
      "[Embedder] Final embeddings shape: (1, 384)\n",
      "[QdrantDB] Searching for top 5 docs.\n"
     ]
    },
    {
     "name": "stderr",
     "output_type": "stream",
     "text": [
      "\n"
     ]
    },
    {
     "name": "stdout",
     "output_type": "stream",
     "text": [
      "[QdrantDB] Found 0 hits.\n",
      "[RAG] Retrieved 0 docs.\n",
      "[RAG] Using Groq for generation.\n",
      "\n",
      "[Answer]:\n",
      " To reset your password, follow these steps:\n",
      "\n",
      "1. Go to the login page.\n",
      "2. Click on the \"Forgot Password\" or \"Reset Password\" option (Retrieved from [1] - General Password Reset Procedure).\n",
      "3. Enter your username, email address, or phone number associated with your account (Retrieved from [2] - Account Recovery Process).\n",
      "4. Follow the instructions provided to reset your password (Retrieved from [3] - Password Reset Guidelines).\n",
      "\n",
      "Remember to keep your new password secure and unique.\n"
     ]
    }
   ],
   "source": [
    "# Cell-4: Query RAG with Qdrant + Groq\n",
    "\n",
    "from rag import RAG\n",
    "\n",
    "# Initialize RAG: Qdrant + Groq\n",
    "rag = RAG()\n",
    "\n",
    "# Example query\n",
    "query = \"How do I reset my password?\"\n",
    "print(\"[LOG] Query:\", query)\n",
    "\n",
    "# Retrieve relevant docs\n",
    "retrieved = rag.retrieve(query, top_k=5)\n",
    "print(f\"[LOG] Retrieved {len(retrieved)} docs:\")\n",
    "\n",
    "for i, doc in enumerate(retrieved, 1):\n",
    "    print(f\"Doc {i}:\", doc[:120], \"...\")\n",
    "\n",
    "# Generate answer using Groq if available\n",
    "print(\"\\n[LOG] Generating answer...\")\n",
    "answer = rag.answer(query, top_k=5)\n",
    "print(\"\\n[Answer]:\\n\", answer)\n"
   ]
  },
  {
   "cell_type": "code",
   "execution_count": 6,
   "id": "339bb970",
   "metadata": {},
   "outputs": [
    {
     "name": "stdout",
     "output_type": "stream",
     "text": [
      "\n",
      "[LOG] Query: When is the library open?\n",
      "[RAG] Retrieving top 5 docs for query: When is the library open?\n",
      "[Embedder] Embedding 1 texts with batch_size=64\n"
     ]
    },
    {
     "name": "stderr",
     "output_type": "stream",
     "text": [
      "Embedding batches: 100%|██████████| 1/1 [00:00<00:00, 73.88it/s]"
     ]
    },
    {
     "name": "stdout",
     "output_type": "stream",
     "text": [
      "[Embedder] Batch 1: 1 texts\n",
      "[Embedder] Final embeddings shape: (1, 384)\n",
      "[QdrantDB] Searching for top 5 docs.\n"
     ]
    },
    {
     "name": "stderr",
     "output_type": "stream",
     "text": [
      "\n"
     ]
    },
    {
     "name": "stdout",
     "output_type": "stream",
     "text": [
      "[QdrantDB] Found 0 hits.\n",
      "[RAG] Retrieved 0 docs.\n",
      "[LOG] Retrieved 0 docs:\n",
      "\n",
      "[LOG] Generating answer...\n",
      "[RAG] Answering query: When is the library open?\n",
      "[RAG] Retrieving top 5 docs for query: When is the library open?\n",
      "[Embedder] Embedding 1 texts with batch_size=64\n"
     ]
    },
    {
     "name": "stderr",
     "output_type": "stream",
     "text": [
      "Embedding batches: 100%|██████████| 1/1 [00:00<00:00, 111.09it/s]"
     ]
    },
    {
     "name": "stdout",
     "output_type": "stream",
     "text": [
      "[Embedder] Batch 1: 1 texts\n",
      "[Embedder] Final embeddings shape: (1, 384)\n",
      "[QdrantDB] Searching for top 5 docs.\n"
     ]
    },
    {
     "name": "stderr",
     "output_type": "stream",
     "text": [
      "\n"
     ]
    },
    {
     "name": "stdout",
     "output_type": "stream",
     "text": [
      "[QdrantDB] Found 0 hits.\n",
      "[RAG] Retrieved 0 docs.\n",
      "[RAG] Using Groq for generation.\n",
      "\n",
      "[Answer]:\n",
      " The library's hours vary depending on the location. However, I can provide you with the general information for a typical library. \n",
      "\n",
      "Most libraries are open:\n",
      "\n",
      "- Monday to Thursday: 9:00 AM to 8:00 PM [1]\n",
      "- Friday to Saturday: 9:00 AM to 5:00 PM [1]\n",
      "- Sunday: 1:00 PM to 5:00 PM [2]\n",
      "\n",
      "Please note that these hours are subject to change and may vary based on your specific library's schedule.\n",
      "\n",
      "Referenced documents:\n",
      "[1] Library official website (General Hours page) \n",
      "[2] Library's social media for updates on special events and hours.\n",
      "\n",
      "[LOG] Query: How do I reset my password?\n",
      "[RAG] Retrieving top 5 docs for query: How do I reset my password?\n",
      "[Embedder] Embedding 1 texts with batch_size=64\n"
     ]
    },
    {
     "name": "stderr",
     "output_type": "stream",
     "text": [
      "Embedding batches: 100%|██████████| 1/1 [00:00<00:00, 125.17it/s]"
     ]
    },
    {
     "name": "stdout",
     "output_type": "stream",
     "text": [
      "[Embedder] Batch 1: 1 texts\n",
      "[Embedder] Final embeddings shape: (1, 384)\n",
      "[QdrantDB] Searching for top 5 docs.\n"
     ]
    },
    {
     "name": "stderr",
     "output_type": "stream",
     "text": [
      "\n"
     ]
    },
    {
     "name": "stdout",
     "output_type": "stream",
     "text": [
      "[QdrantDB] Found 0 hits.\n",
      "[RAG] Retrieved 0 docs.\n",
      "[LOG] Retrieved 0 docs:\n",
      "\n",
      "[LOG] Generating answer...\n",
      "[RAG] Answering query: How do I reset my password?\n",
      "[RAG] Retrieving top 5 docs for query: How do I reset my password?\n",
      "[Embedder] Embedding 1 texts with batch_size=64\n"
     ]
    },
    {
     "name": "stderr",
     "output_type": "stream",
     "text": [
      "Embedding batches: 100%|██████████| 1/1 [00:00<00:00, 111.38it/s]"
     ]
    },
    {
     "name": "stdout",
     "output_type": "stream",
     "text": [
      "[Embedder] Batch 1: 1 texts\n",
      "[Embedder] Final embeddings shape: (1, 384)\n",
      "[QdrantDB] Searching for top 5 docs.\n"
     ]
    },
    {
     "name": "stderr",
     "output_type": "stream",
     "text": [
      "\n"
     ]
    },
    {
     "name": "stdout",
     "output_type": "stream",
     "text": [
      "[QdrantDB] Found 0 hits.\n",
      "[RAG] Retrieved 0 docs.\n",
      "[RAG] Using Groq for generation.\n",
      "\n",
      "[Answer]:\n",
      " To reset your password, follow these steps:\n",
      "\n",
      "1. Go to the login page of the account you need to reset the password for. [Retrieved from \"How to Login/Sign Up\" - Company Website]\n",
      "2. Click on the \"Forgot Password\" or \"Reset Password\" link. [Retrieved from \"Account Recovery\" - Company Website]\n",
      "3. Enter your email address or username associated with the account. [Retrieved from \"Account Recovery\" - Company Website]\n",
      "4. Click on the \"Send Reset Email\" or \"Reset Password\" button. [Retrieved from \"Account Recovery\" - Company Website]\n",
      "5. Check your email for a reset password link or instructions. [Retrieved from \"Company Email Policy\" - Company Website]\n",
      "6. Follow the instructions in the email to reset your password.\n",
      "\n",
      "Please note: the specific steps may vary depending on the platform or website you are using. [Retrieved from \"Platform-Specific Instructions\" - Online Documentation]\n",
      "\n",
      "(Company Website: general information about the company's account recovery process)\n",
      "(Company Email Policy: information about how the company handles emails for account recovery)\n",
      "(Platform-Specific Instructions: online documentation for resetting passwords on specific platforms)\n"
     ]
    }
   ],
   "source": [
    "# Cell-5: Quick Qdrant + Groq inference demo\n",
    "\n",
    "from rag import RAG\n",
    "\n",
    "# Initialize RAG: Qdrant + Groq\n",
    "rag = RAG()\n",
    "\n",
    "# Example queries for quick test\n",
    "queries = [\n",
    "    \"When is the library open?\",\n",
    "    \"How do I reset my password?\"\n",
    "]\n",
    "\n",
    "for query in queries:\n",
    "    print(\"\\n[LOG] Query:\", query)\n",
    "    \n",
    "    # Retrieve top docs from Qdrant\n",
    "    retrieved = rag.retrieve(query, top_k=5)\n",
    "    print(f\"[LOG] Retrieved {len(retrieved)} docs:\")\n",
    "    for i, doc in enumerate(retrieved, 1):\n",
    "        print(f\"Doc {i}:\", doc[:120], \"...\")\n",
    "    \n",
    "    # Generate answer using Groq\n",
    "    print(\"\\n[LOG] Generating answer...\")\n",
    "    answer = rag.answer(query, top_k=5)\n",
    "    print(\"\\n[Answer]:\\n\", answer)\n"
   ]
  }
 ],
 "metadata": {
  "kernelspec": {
   "display_name": "venv",
   "language": "python",
   "name": "python3"
  },
  "language_info": {
   "codemirror_mode": {
    "name": "ipython",
    "version": 3
   },
   "file_extension": ".py",
   "mimetype": "text/x-python",
   "name": "python",
   "nbconvert_exporter": "python",
   "pygments_lexer": "ipython3",
   "version": "3.12.6"
  }
 },
 "nbformat": 4,
 "nbformat_minor": 5
}
