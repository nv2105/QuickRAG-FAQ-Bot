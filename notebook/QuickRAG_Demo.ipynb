{
 "cells": [
  {
   "cell_type": "markdown",
   "id": "53b7b3ea",
   "metadata": {},
   "source": [
    "# 📓 QuickRAG-FAQ-Bot Demo"
   ]
  },
  {
   "cell_type": "markdown",
   "id": "cf6f076c",
   "metadata": {},
   "source": [
    "### 🔹 QuickRAG-FAQ-Bot Architecture\n",
    "\n",
    "``` mermaid\n",
    "flowchart TD\n",
    "    A[User Query] --> B[Embed with SentenceTransformers]\n",
    "    B --> C[Qdrant Cloud Vector DB]\n",
    "    C --> D[Retrieve Top-k Relevant Docs]\n",
    "    D --> E[Groq LLM: LLaMA 3.1 8B]\n",
    "    E --> F[Final Answer with Citations]\n",
    "```"
   ]
  },
  {
   "cell_type": "markdown",
   "id": "f7c28e5c",
   "metadata": {},
   "source": [
    "🔹 1. Install Requirements"
   ]
  },
  {
   "cell_type": "code",
   "execution_count": 8,
   "id": "93a509a1",
   "metadata": {},
   "outputs": [
    {
     "name": "stdout",
     "output_type": "stream",
     "text": [
      "Requirement already satisfied: python-dotenv in d:\\naman\\projects\\rag\\quickrag-faq-bot\\venv\\lib\\site-packages (from -r ../requirements.txt (line 1)) (1.1.1)\n",
      "Requirement already satisfied: pandas in d:\\naman\\projects\\rag\\quickrag-faq-bot\\venv\\lib\\site-packages (from -r ../requirements.txt (line 2)) (2.3.2)\n",
      "Requirement already satisfied: numpy in d:\\naman\\projects\\rag\\quickrag-faq-bot\\venv\\lib\\site-packages (from -r ../requirements.txt (line 3)) (2.3.3)\n",
      "Requirement already satisfied: sentence-transformers in d:\\naman\\projects\\rag\\quickrag-faq-bot\\venv\\lib\\site-packages (from -r ../requirements.txt (line 4)) (5.1.0)\n",
      "Requirement already satisfied: qdrant-client in d:\\naman\\projects\\rag\\quickrag-faq-bot\\venv\\lib\\site-packages (from -r ../requirements.txt (line 5)) (1.15.1)\n",
      "Requirement already satisfied: groq in d:\\naman\\projects\\rag\\quickrag-faq-bot\\venv\\lib\\site-packages (from -r ../requirements.txt (line 6)) (0.31.1)\n",
      "Requirement already satisfied: transformers in d:\\naman\\projects\\rag\\quickrag-faq-bot\\venv\\lib\\site-packages (from -r ../requirements.txt (line 7)) (4.56.1)\n",
      "Requirement already satisfied: torch in d:\\naman\\projects\\rag\\quickrag-faq-bot\\venv\\lib\\site-packages (from -r ../requirements.txt (line 8)) (2.8.0)\n",
      "Requirement already satisfied: tqdm in d:\\naman\\projects\\rag\\quickrag-faq-bot\\venv\\lib\\site-packages (from -r ../requirements.txt (line 9)) (4.67.1)\n",
      "Requirement already satisfied: python-dateutil>=2.8.2 in d:\\naman\\projects\\rag\\quickrag-faq-bot\\venv\\lib\\site-packages (from pandas->-r ../requirements.txt (line 2)) (2.9.0.post0)\n",
      "Requirement already satisfied: pytz>=2020.1 in d:\\naman\\projects\\rag\\quickrag-faq-bot\\venv\\lib\\site-packages (from pandas->-r ../requirements.txt (line 2)) (2025.2)\n",
      "Requirement already satisfied: tzdata>=2022.7 in d:\\naman\\projects\\rag\\quickrag-faq-bot\\venv\\lib\\site-packages (from pandas->-r ../requirements.txt (line 2)) (2025.2)\n",
      "Requirement already satisfied: scikit-learn in d:\\naman\\projects\\rag\\quickrag-faq-bot\\venv\\lib\\site-packages (from sentence-transformers->-r ../requirements.txt (line 4)) (1.7.2)\n",
      "Requirement already satisfied: scipy in d:\\naman\\projects\\rag\\quickrag-faq-bot\\venv\\lib\\site-packages (from sentence-transformers->-r ../requirements.txt (line 4)) (1.16.2)\n",
      "Requirement already satisfied: huggingface-hub>=0.20.0 in d:\\naman\\projects\\rag\\quickrag-faq-bot\\venv\\lib\\site-packages (from sentence-transformers->-r ../requirements.txt (line 4)) (0.34.4)\n",
      "Requirement already satisfied: Pillow in d:\\naman\\projects\\rag\\quickrag-faq-bot\\venv\\lib\\site-packages (from sentence-transformers->-r ../requirements.txt (line 4)) (11.3.0)\n",
      "Requirement already satisfied: typing_extensions>=4.5.0 in d:\\naman\\projects\\rag\\quickrag-faq-bot\\venv\\lib\\site-packages (from sentence-transformers->-r ../requirements.txt (line 4)) (4.15.0)\n",
      "Requirement already satisfied: grpcio>=1.41.0 in d:\\naman\\projects\\rag\\quickrag-faq-bot\\venv\\lib\\site-packages (from qdrant-client->-r ../requirements.txt (line 5)) (1.74.0)\n",
      "Requirement already satisfied: httpx>=0.20.0 in d:\\naman\\projects\\rag\\quickrag-faq-bot\\venv\\lib\\site-packages (from httpx[http2]>=0.20.0->qdrant-client->-r ../requirements.txt (line 5)) (0.28.1)\n",
      "Requirement already satisfied: portalocker<4.0,>=2.7.0 in d:\\naman\\projects\\rag\\quickrag-faq-bot\\venv\\lib\\site-packages (from qdrant-client->-r ../requirements.txt (line 5)) (3.2.0)\n",
      "Requirement already satisfied: protobuf>=3.20.0 in d:\\naman\\projects\\rag\\quickrag-faq-bot\\venv\\lib\\site-packages (from qdrant-client->-r ../requirements.txt (line 5)) (6.32.1)\n",
      "Requirement already satisfied: pydantic!=2.0.*,!=2.1.*,!=2.2.0,>=1.10.8 in d:\\naman\\projects\\rag\\quickrag-faq-bot\\venv\\lib\\site-packages (from qdrant-client->-r ../requirements.txt (line 5)) (2.11.9)\n",
      "Requirement already satisfied: urllib3<3,>=1.26.14 in d:\\naman\\projects\\rag\\quickrag-faq-bot\\venv\\lib\\site-packages (from qdrant-client->-r ../requirements.txt (line 5)) (2.5.0)\n",
      "Requirement already satisfied: anyio<5,>=3.5.0 in d:\\naman\\projects\\rag\\quickrag-faq-bot\\venv\\lib\\site-packages (from groq->-r ../requirements.txt (line 6)) (4.10.0)\n",
      "Requirement already satisfied: distro<2,>=1.7.0 in d:\\naman\\projects\\rag\\quickrag-faq-bot\\venv\\lib\\site-packages (from groq->-r ../requirements.txt (line 6)) (1.9.0)\n",
      "Requirement already satisfied: sniffio in d:\\naman\\projects\\rag\\quickrag-faq-bot\\venv\\lib\\site-packages (from groq->-r ../requirements.txt (line 6)) (1.3.1)\n",
      "Requirement already satisfied: filelock in d:\\naman\\projects\\rag\\quickrag-faq-bot\\venv\\lib\\site-packages (from transformers->-r ../requirements.txt (line 7)) (3.19.1)\n",
      "Requirement already satisfied: packaging>=20.0 in d:\\naman\\projects\\rag\\quickrag-faq-bot\\venv\\lib\\site-packages (from transformers->-r ../requirements.txt (line 7)) (25.0)\n",
      "Requirement already satisfied: pyyaml>=5.1 in d:\\naman\\projects\\rag\\quickrag-faq-bot\\venv\\lib\\site-packages (from transformers->-r ../requirements.txt (line 7)) (6.0.2)\n",
      "Requirement already satisfied: regex!=2019.12.17 in d:\\naman\\projects\\rag\\quickrag-faq-bot\\venv\\lib\\site-packages (from transformers->-r ../requirements.txt (line 7)) (2025.9.1)\n",
      "Requirement already satisfied: requests in d:\\naman\\projects\\rag\\quickrag-faq-bot\\venv\\lib\\site-packages (from transformers->-r ../requirements.txt (line 7)) (2.32.5)\n",
      "Requirement already satisfied: tokenizers<=0.23.0,>=0.22.0 in d:\\naman\\projects\\rag\\quickrag-faq-bot\\venv\\lib\\site-packages (from transformers->-r ../requirements.txt (line 7)) (0.22.0)\n",
      "Requirement already satisfied: safetensors>=0.4.3 in d:\\naman\\projects\\rag\\quickrag-faq-bot\\venv\\lib\\site-packages (from transformers->-r ../requirements.txt (line 7)) (0.6.2)\n",
      "Requirement already satisfied: sympy>=1.13.3 in d:\\naman\\projects\\rag\\quickrag-faq-bot\\venv\\lib\\site-packages (from torch->-r ../requirements.txt (line 8)) (1.14.0)\n",
      "Requirement already satisfied: networkx in d:\\naman\\projects\\rag\\quickrag-faq-bot\\venv\\lib\\site-packages (from torch->-r ../requirements.txt (line 8)) (3.5)\n",
      "Requirement already satisfied: jinja2 in d:\\naman\\projects\\rag\\quickrag-faq-bot\\venv\\lib\\site-packages (from torch->-r ../requirements.txt (line 8)) (3.1.6)\n",
      "Requirement already satisfied: fsspec in d:\\naman\\projects\\rag\\quickrag-faq-bot\\venv\\lib\\site-packages (from torch->-r ../requirements.txt (line 8)) (2025.3.0)\n",
      "Requirement already satisfied: setuptools in d:\\naman\\projects\\rag\\quickrag-faq-bot\\venv\\lib\\site-packages (from torch->-r ../requirements.txt (line 8)) (80.9.0)\n",
      "Requirement already satisfied: colorama in d:\\naman\\projects\\rag\\quickrag-faq-bot\\venv\\lib\\site-packages (from tqdm->-r ../requirements.txt (line 9)) (0.4.6)\n",
      "Requirement already satisfied: idna>=2.8 in d:\\naman\\projects\\rag\\quickrag-faq-bot\\venv\\lib\\site-packages (from anyio<5,>=3.5.0->groq->-r ../requirements.txt (line 6)) (3.10)\n",
      "Requirement already satisfied: certifi in d:\\naman\\projects\\rag\\quickrag-faq-bot\\venv\\lib\\site-packages (from httpx>=0.20.0->httpx[http2]>=0.20.0->qdrant-client->-r ../requirements.txt (line 5)) (2025.8.3)\n",
      "Requirement already satisfied: httpcore==1.* in d:\\naman\\projects\\rag\\quickrag-faq-bot\\venv\\lib\\site-packages (from httpx>=0.20.0->httpx[http2]>=0.20.0->qdrant-client->-r ../requirements.txt (line 5)) (1.0.9)\n",
      "Requirement already satisfied: h11>=0.16 in d:\\naman\\projects\\rag\\quickrag-faq-bot\\venv\\lib\\site-packages (from httpcore==1.*->httpx>=0.20.0->httpx[http2]>=0.20.0->qdrant-client->-r ../requirements.txt (line 5)) (0.16.0)\n",
      "Requirement already satisfied: h2<5,>=3 in d:\\naman\\projects\\rag\\quickrag-faq-bot\\venv\\lib\\site-packages (from httpx[http2]>=0.20.0->qdrant-client->-r ../requirements.txt (line 5)) (4.3.0)\n",
      "Requirement already satisfied: pywin32>=226 in d:\\naman\\projects\\rag\\quickrag-faq-bot\\venv\\lib\\site-packages (from portalocker<4.0,>=2.7.0->qdrant-client->-r ../requirements.txt (line 5)) (311)\n",
      "Requirement already satisfied: annotated-types>=0.6.0 in d:\\naman\\projects\\rag\\quickrag-faq-bot\\venv\\lib\\site-packages (from pydantic!=2.0.*,!=2.1.*,!=2.2.0,>=1.10.8->qdrant-client->-r ../requirements.txt (line 5)) (0.7.0)\n",
      "Requirement already satisfied: pydantic-core==2.33.2 in d:\\naman\\projects\\rag\\quickrag-faq-bot\\venv\\lib\\site-packages (from pydantic!=2.0.*,!=2.1.*,!=2.2.0,>=1.10.8->qdrant-client->-r ../requirements.txt (line 5)) (2.33.2)\n",
      "Requirement already satisfied: typing-inspection>=0.4.0 in d:\\naman\\projects\\rag\\quickrag-faq-bot\\venv\\lib\\site-packages (from pydantic!=2.0.*,!=2.1.*,!=2.2.0,>=1.10.8->qdrant-client->-r ../requirements.txt (line 5)) (0.4.1)\n",
      "Requirement already satisfied: six>=1.5 in d:\\naman\\projects\\rag\\quickrag-faq-bot\\venv\\lib\\site-packages (from python-dateutil>=2.8.2->pandas->-r ../requirements.txt (line 2)) (1.17.0)\n",
      "Requirement already satisfied: mpmath<1.4,>=1.1.0 in d:\\naman\\projects\\rag\\quickrag-faq-bot\\venv\\lib\\site-packages (from sympy>=1.13.3->torch->-r ../requirements.txt (line 8)) (1.3.0)\n",
      "Requirement already satisfied: MarkupSafe>=2.0 in d:\\naman\\projects\\rag\\quickrag-faq-bot\\venv\\lib\\site-packages (from jinja2->torch->-r ../requirements.txt (line 8)) (3.0.2)\n",
      "Requirement already satisfied: charset_normalizer<4,>=2 in d:\\naman\\projects\\rag\\quickrag-faq-bot\\venv\\lib\\site-packages (from requests->transformers->-r ../requirements.txt (line 7)) (3.4.3)\n",
      "Requirement already satisfied: joblib>=1.2.0 in d:\\naman\\projects\\rag\\quickrag-faq-bot\\venv\\lib\\site-packages (from scikit-learn->sentence-transformers->-r ../requirements.txt (line 4)) (1.5.2)\n",
      "Requirement already satisfied: threadpoolctl>=3.1.0 in d:\\naman\\projects\\rag\\quickrag-faq-bot\\venv\\lib\\site-packages (from scikit-learn->sentence-transformers->-r ../requirements.txt (line 4)) (3.6.0)\n",
      "Requirement already satisfied: hyperframe<7,>=6.1 in d:\\naman\\projects\\rag\\quickrag-faq-bot\\venv\\lib\\site-packages (from h2<5,>=3->httpx[http2]>=0.20.0->qdrant-client->-r ../requirements.txt (line 5)) (6.1.0)\n",
      "Requirement already satisfied: hpack<5,>=4.1 in d:\\naman\\projects\\rag\\quickrag-faq-bot\\venv\\lib\\site-packages (from h2<5,>=3->httpx[http2]>=0.20.0->qdrant-client->-r ../requirements.txt (line 5)) (4.1.0)\n",
      "Note: you may need to restart the kernel to use updated packages.\n",
      "[LOG] Requirements installed.\n"
     ]
    },
    {
     "name": "stderr",
     "output_type": "stream",
     "text": [
      "\n",
      "[notice] A new release of pip is available: 24.2 -> 25.2\n",
      "[notice] To update, run: python.exe -m pip install --upgrade pip\n"
     ]
    }
   ],
   "source": [
    "%pip install -r ../requirements.txt\n",
    "print(\"[LOG] Requirements installed.\")\n"
   ]
  },
  {
   "cell_type": "markdown",
   "id": "11db6909",
   "metadata": {},
   "source": [
    "🔹 2. Load Environment Keys"
   ]
  },
  {
   "cell_type": "code",
   "execution_count": 9,
   "id": "5b76afbf",
   "metadata": {},
   "outputs": [
    {
     "name": "stdout",
     "output_type": "stream",
     "text": [
      "[LOG] .env loaded.\n",
      "[LOG] Keys status -> Qdrant: True Groq: True\n",
      "[LOG] Environment ready.\n"
     ]
    }
   ],
   "source": [
    "from dotenv import load_dotenv\n",
    "import os, getpass\n",
    "\n",
    "load_dotenv()\n",
    "print(\"[LOG] .env loaded.\")\n",
    "\n",
    "# Prompt only if missing\n",
    "for key in [\"QDRANT_URL\", \"QDRANT_API_KEY\", \"GROQ_API_KEY\"]:\n",
    "    if not os.getenv(key):\n",
    "        prompt_text = f\"{key} not found in .env. Paste it now (won't be saved):\"\n",
    "        os.environ[key] = getpass.getpass(prompt_text)\n",
    "\n",
    "# Ensure keys exist\n",
    "if not os.getenv(\"QDRANT_URL\") or not os.getenv(\"QDRANT_API_KEY\"):\n",
    "    raise RuntimeError(\"Qdrant keys are required to run this notebook.\")\n",
    "if not os.getenv(\"GROQ_API_KEY\"):\n",
    "    print(\"[WARN] Groq key missing. Only local fallback generation will work.\")\n",
    "\n",
    "print(\"[LOG] Keys status -> Qdrant:\", bool(os.getenv(\"QDRANT_URL\")), \n",
    "      \"Groq:\", bool(os.getenv(\"GROQ_API_KEY\")))\n",
    "print(\"[LOG] Environment ready.\")"
   ]
  },
  {
   "cell_type": "markdown",
   "id": "17bba475",
   "metadata": {},
   "source": [
    "🔹 3. Index Data to Qdrant Cloud"
   ]
  },
  {
   "cell_type": "code",
   "execution_count": 10,
   "id": "9d13bd91",
   "metadata": {},
   "outputs": [
    {
     "name": "stdout",
     "output_type": "stream",
     "text": [
      "[LOG] Loaded 5000 rows from CSV.\n",
      "[LOG] Indexing 2000 document chunks...\n",
      "[QdrantDB] Collection 'quickrag_collection' ready with vector size 384\n",
      "[RAG] Indexing 2000 docs with batch_size=64\n",
      "[Embedder] Embedding 2000 texts with batch_size=64\n",
      "[Embedder] Batch 1: 64 texts\n",
      "[Embedder] Batch 2: 64 texts\n",
      "[Embedder] Batch 3: 64 texts\n",
      "[Embedder] Batch 4: 64 texts\n",
      "[Embedder] Batch 5: 64 texts\n",
      "[Embedder] Batch 6: 64 texts\n",
      "[Embedder] Batch 7: 64 texts\n",
      "[Embedder] Batch 8: 64 texts\n",
      "[Embedder] Batch 9: 64 texts\n",
      "[Embedder] Batch 10: 64 texts\n",
      "[Embedder] Batch 11: 64 texts\n",
      "[Embedder] Batch 12: 64 texts\n",
      "[Embedder] Batch 13: 64 texts\n",
      "[Embedder] Batch 14: 64 texts\n",
      "[Embedder] Batch 15: 64 texts\n",
      "[Embedder] Batch 16: 64 texts\n",
      "[Embedder] Batch 17: 64 texts\n",
      "[Embedder] Batch 18: 64 texts\n",
      "[Embedder] Batch 19: 64 texts\n",
      "[Embedder] Batch 20: 64 texts\n",
      "[Embedder] Batch 21: 64 texts\n",
      "[Embedder] Batch 22: 64 texts\n",
      "[Embedder] Batch 23: 64 texts\n",
      "[Embedder] Batch 24: 64 texts\n",
      "[Embedder] Batch 25: 64 texts\n",
      "[Embedder] Batch 26: 64 texts\n",
      "[Embedder] Batch 27: 64 texts\n",
      "[Embedder] Batch 28: 64 texts\n",
      "[Embedder] Batch 29: 64 texts\n",
      "[Embedder] Batch 30: 64 texts\n",
      "[Embedder] Batch 31: 64 texts\n",
      "[Embedder] Batch 32: 16 texts\n",
      "[Embedder] Final embeddings shape: (2000, 384)\n",
      "[QdrantDB] Upserting 2000 docs in batches of 64\n",
      "[QdrantDB] Upserting batch ending at doc 64\n",
      "[LOG] Indexing complete. Docs stored in Qdrant Cloud.\n"
     ]
    },
    {
     "name": "stderr",
     "output_type": "stream",
     "text": [
      "\n",
      "Embedding batches:   0%|          | 0/32 [00:00<?, ?it/s]\n",
      "Embedding batches:   3%|▎         | 1/32 [00:00<00:22,  1.39it/s]\n",
      "Embedding batches:   6%|▋         | 2/32 [00:01<00:25,  1.20it/s]\n",
      "Embedding batches:   9%|▉         | 3/32 [00:02<00:21,  1.34it/s]\n",
      "Embedding batches:  12%|█▎        | 4/32 [00:02<00:18,  1.49it/s]\n",
      "Embedding batches:  16%|█▌        | 5/32 [00:03<00:16,  1.61it/s]\n",
      "Embedding batches:  19%|█▉        | 6/32 [00:03<00:15,  1.70it/s]\n",
      "Embedding batches:  22%|██▏       | 7/32 [00:04<00:14,  1.74it/s]\n",
      "Embedding batches:  25%|██▌       | 8/32 [00:05<00:13,  1.72it/s]\n",
      "Embedding batches:  28%|██▊       | 9/32 [00:05<00:13,  1.74it/s]\n",
      "Embedding batches:  31%|███▏      | 10/32 [00:06<00:12,  1.79it/s]\n",
      "Embedding batches:  34%|███▍      | 11/32 [00:06<00:11,  1.80it/s]\n",
      "Embedding batches:  38%|███▊      | 12/32 [00:07<00:10,  1.82it/s]\n",
      "Embedding batches:  41%|████      | 13/32 [00:07<00:10,  1.76it/s]\n",
      "Embedding batches:  44%|████▍     | 14/32 [00:08<00:10,  1.72it/s]\n",
      "Embedding batches:  47%|████▋     | 15/32 [00:09<00:09,  1.71it/s]\n",
      "Embedding batches:  50%|█████     | 16/32 [00:09<00:09,  1.69it/s]\n",
      "Embedding batches:  53%|█████▎    | 17/32 [00:10<00:08,  1.73it/s]\n",
      "Embedding batches:  56%|█████▋    | 18/32 [00:10<00:08,  1.74it/s]\n",
      "Embedding batches:  59%|█████▉    | 19/32 [00:11<00:07,  1.76it/s]\n",
      "Embedding batches:  62%|██████▎   | 20/32 [00:11<00:06,  1.80it/s]\n",
      "Embedding batches:  66%|██████▌   | 21/32 [00:12<00:05,  1.85it/s]\n",
      "Embedding batches:  69%|██████▉   | 22/32 [00:12<00:05,  1.86it/s]\n",
      "Embedding batches:  72%|███████▏  | 23/32 [00:13<00:04,  1.89it/s]\n",
      "Embedding batches:  75%|███████▌  | 24/32 [00:13<00:04,  1.88it/s]\n",
      "Embedding batches:  78%|███████▊  | 25/32 [00:14<00:03,  1.89it/s]\n",
      "Embedding batches:  81%|████████▏ | 26/32 [00:14<00:03,  1.87it/s]\n",
      "Embedding batches:  84%|████████▍ | 27/32 [00:15<00:02,  1.88it/s]\n",
      "Embedding batches:  88%|████████▊ | 28/32 [00:16<00:02,  1.85it/s]\n",
      "Embedding batches:  91%|█████████ | 29/32 [00:16<00:01,  1.89it/s]\n",
      "Embedding batches:  94%|█████████▍| 30/32 [00:17<00:01,  1.91it/s]\n",
      "Embedding batches:  97%|█████████▋| 31/32 [00:17<00:00,  1.93it/s]\n",
      "Embedding batches: 100%|██████████| 32/32 [00:17<00:00,  2.49it/s]\n",
      "Embedding batches: 100%|██████████| 32/32 [00:17<00:00,  1.81it/s]\n",
      "Traceback (most recent call last):\n",
      "  File \"d:\\Naman\\Projects\\RAG\\QuickRAG-FAQ-Bot\\venv\\Lib\\site-packages\\httpx\\_transports\\default.py\", line 101, in map_httpcore_exceptions\n",
      "    yield\n",
      "  File \"d:\\Naman\\Projects\\RAG\\QuickRAG-FAQ-Bot\\venv\\Lib\\site-packages\\httpx\\_transports\\default.py\", line 250, in handle_request\n",
      "    resp = self._pool.handle_request(req)\n",
      "           ^^^^^^^^^^^^^^^^^^^^^^^^^^^^^^\n",
      "  File \"d:\\Naman\\Projects\\RAG\\QuickRAG-FAQ-Bot\\venv\\Lib\\site-packages\\httpcore\\_sync\\connection_pool.py\", line 256, in handle_request\n",
      "    raise exc from None\n",
      "  File \"d:\\Naman\\Projects\\RAG\\QuickRAG-FAQ-Bot\\venv\\Lib\\site-packages\\httpcore\\_sync\\connection_pool.py\", line 236, in handle_request\n",
      "    response = connection.handle_request(\n",
      "               ^^^^^^^^^^^^^^^^^^^^^^^^^^\n",
      "  File \"d:\\Naman\\Projects\\RAG\\QuickRAG-FAQ-Bot\\venv\\Lib\\site-packages\\httpcore\\_sync\\connection.py\", line 103, in handle_request\n",
      "    return self._connection.handle_request(request)\n",
      "           ^^^^^^^^^^^^^^^^^^^^^^^^^^^^^^^^^^^^^^^^\n",
      "  File \"d:\\Naman\\Projects\\RAG\\QuickRAG-FAQ-Bot\\venv\\Lib\\site-packages\\httpcore\\_sync\\http11.py\", line 136, in handle_request\n",
      "    raise exc\n",
      "  File \"d:\\Naman\\Projects\\RAG\\QuickRAG-FAQ-Bot\\venv\\Lib\\site-packages\\httpcore\\_sync\\http11.py\", line 88, in handle_request\n",
      "    self._send_request_body(**kwargs)\n",
      "  File \"d:\\Naman\\Projects\\RAG\\QuickRAG-FAQ-Bot\\venv\\Lib\\site-packages\\httpcore\\_sync\\http11.py\", line 159, in _send_request_body\n",
      "    self._send_event(event, timeout=timeout)\n",
      "  File \"d:\\Naman\\Projects\\RAG\\QuickRAG-FAQ-Bot\\venv\\Lib\\site-packages\\httpcore\\_sync\\http11.py\", line 166, in _send_event\n",
      "    self._network_stream.write(bytes_to_send, timeout=timeout)\n",
      "  File \"d:\\Naman\\Projects\\RAG\\QuickRAG-FAQ-Bot\\venv\\Lib\\site-packages\\httpcore\\_backends\\sync.py\", line 135, in write\n",
      "    with map_exceptions(exc_map):\n",
      "         ^^^^^^^^^^^^^^^^^^^^^^^\n",
      "  File \"C:\\Python312\\Lib\\contextlib.py\", line 158, in __exit__\n",
      "    self.gen.throw(value)\n",
      "  File \"d:\\Naman\\Projects\\RAG\\QuickRAG-FAQ-Bot\\venv\\Lib\\site-packages\\httpcore\\_exceptions.py\", line 14, in map_exceptions\n",
      "    raise to_exc(exc) from exc\n",
      "httpcore.WriteTimeout: The write operation timed out\n",
      "\n",
      "The above exception was the direct cause of the following exception:\n",
      "\n",
      "Traceback (most recent call last):\n",
      "  File \"d:\\Naman\\Projects\\RAG\\QuickRAG-FAQ-Bot\\venv\\Lib\\site-packages\\qdrant_client\\http\\api_client.py\", line 134, in send_inner\n",
      "    response = self._client.send(request)\n",
      "               ^^^^^^^^^^^^^^^^^^^^^^^^^^\n",
      "  File \"d:\\Naman\\Projects\\RAG\\QuickRAG-FAQ-Bot\\venv\\Lib\\site-packages\\httpx\\_client.py\", line 914, in send\n",
      "    response = self._send_handling_auth(\n",
      "               ^^^^^^^^^^^^^^^^^^^^^^^^^\n",
      "  File \"d:\\Naman\\Projects\\RAG\\QuickRAG-FAQ-Bot\\venv\\Lib\\site-packages\\httpx\\_client.py\", line 942, in _send_handling_auth\n",
      "    response = self._send_handling_redirects(\n",
      "               ^^^^^^^^^^^^^^^^^^^^^^^^^^^^^^\n",
      "  File \"d:\\Naman\\Projects\\RAG\\QuickRAG-FAQ-Bot\\venv\\Lib\\site-packages\\httpx\\_client.py\", line 979, in _send_handling_redirects\n",
      "    response = self._send_single_request(request)\n",
      "               ^^^^^^^^^^^^^^^^^^^^^^^^^^^^^^^^^^\n",
      "  File \"d:\\Naman\\Projects\\RAG\\QuickRAG-FAQ-Bot\\venv\\Lib\\site-packages\\httpx\\_client.py\", line 1014, in _send_single_request\n",
      "    response = transport.handle_request(request)\n",
      "               ^^^^^^^^^^^^^^^^^^^^^^^^^^^^^^^^^\n",
      "  File \"d:\\Naman\\Projects\\RAG\\QuickRAG-FAQ-Bot\\venv\\Lib\\site-packages\\httpx\\_transports\\default.py\", line 249, in handle_request\n",
      "    with map_httpcore_exceptions():\n",
      "         ^^^^^^^^^^^^^^^^^^^^^^^^^\n",
      "  File \"C:\\Python312\\Lib\\contextlib.py\", line 158, in __exit__\n",
      "    self.gen.throw(value)\n",
      "  File \"d:\\Naman\\Projects\\RAG\\QuickRAG-FAQ-Bot\\venv\\Lib\\site-packages\\httpx\\_transports\\default.py\", line 118, in map_httpcore_exceptions\n",
      "    raise mapped_exc(message) from exc\n",
      "httpx.WriteTimeout: The write operation timed out\n",
      "\n",
      "During handling of the above exception, another exception occurred:\n",
      "\n",
      "Traceback (most recent call last):\n",
      "  File \"d:\\Naman\\Projects\\RAG\\QuickRAG-FAQ-Bot\\src\\load_data.py\", line 67, in <module>\n",
      "    main(csv_path=args.csv, max_docs=args.max)\n",
      "  File \"d:\\Naman\\Projects\\RAG\\QuickRAG-FAQ-Bot\\src\\load_data.py\", line 57, in main\n",
      "    rag.index(chunked_docs, batch_size=64)\n",
      "  File \"d:\\Naman\\Projects\\RAG\\QuickRAG-FAQ-Bot\\src\\rag.py\", line 43, in index\n",
      "    self.db.upsert(docs, embeddings)\n",
      "  File \"d:\\Naman\\Projects\\RAG\\QuickRAG-FAQ-Bot\\src\\db_qdrant.py\", line 36, in upsert\n",
      "    self.client.upsert(collection_name=self.collection_name, points=points)\n",
      "  File \"d:\\Naman\\Projects\\RAG\\QuickRAG-FAQ-Bot\\venv\\Lib\\site-packages\\qdrant_client\\qdrant_client.py\", line 1633, in upsert\n",
      "    return self._client.upsert(\n",
      "           ^^^^^^^^^^^^^^^^^^^^\n",
      "  File \"d:\\Naman\\Projects\\RAG\\QuickRAG-FAQ-Bot\\venv\\Lib\\site-packages\\qdrant_client\\qdrant_remote.py\", line 1911, in upsert\n",
      "    http_result = self.openapi_client.points_api.upsert_points(\n",
      "                  ^^^^^^^^^^^^^^^^^^^^^^^^^^^^^^^^^^^^^^^^^^^^^\n",
      "  File \"d:\\Naman\\Projects\\RAG\\QuickRAG-FAQ-Bot\\venv\\Lib\\site-packages\\qdrant_client\\http\\api\\points_api.py\", line 987, in upsert_points\n",
      "    return self._build_for_upsert_points(\n",
      "           ^^^^^^^^^^^^^^^^^^^^^^^^^^^^^^\n",
      "  File \"d:\\Naman\\Projects\\RAG\\QuickRAG-FAQ-Bot\\venv\\Lib\\site-packages\\qdrant_client\\http\\api\\points_api.py\", line 512, in _build_for_upsert_points\n",
      "    return self.api_client.request(\n",
      "           ^^^^^^^^^^^^^^^^^^^^^^^^\n",
      "  File \"d:\\Naman\\Projects\\RAG\\QuickRAG-FAQ-Bot\\venv\\Lib\\site-packages\\qdrant_client\\http\\api_client.py\", line 95, in request\n",
      "    return self.send(request, type_)\n",
      "           ^^^^^^^^^^^^^^^^^^^^^^^^^\n",
      "  File \"d:\\Naman\\Projects\\RAG\\QuickRAG-FAQ-Bot\\venv\\Lib\\site-packages\\qdrant_client\\http\\api_client.py\", line 112, in send\n",
      "    response = self.middleware(request, self.send_inner)\n",
      "               ^^^^^^^^^^^^^^^^^^^^^^^^^^^^^^^^^^^^^^^^^\n",
      "  File \"d:\\Naman\\Projects\\RAG\\QuickRAG-FAQ-Bot\\venv\\Lib\\site-packages\\qdrant_client\\http\\api_client.py\", line 250, in __call__\n",
      "    return call_next(request)\n",
      "           ^^^^^^^^^^^^^^^^^^\n",
      "  File \"d:\\Naman\\Projects\\RAG\\QuickRAG-FAQ-Bot\\venv\\Lib\\site-packages\\qdrant_client\\http\\api_client.py\", line 136, in send_inner\n",
      "    raise ResponseHandlingException(e)\n",
      "qdrant_client.http.exceptions.ResponseHandlingException: The write operation timed out\n"
     ]
    }
   ],
   "source": [
    "import os, pandas as pd\n",
    "\n",
    "csv_path = \"../data/rag_optimized_5000.csv\"\n",
    "\n",
    "if not os.path.exists(csv_path):\n",
    "    raise FileNotFoundError(f\"CSV file not found at {csv_path}\")\n",
    "\n",
    "df = pd.read_csv(csv_path)\n",
    "print(f\"[LOG] Loaded {len(df)} rows from CSV.\")\n",
    "\n",
    "# Run indexing script\n",
    "!python ../src/load_data.py --csv ../data/rag_optimized_5000.csv --max 2000\n",
    "print(\"[LOG] Indexing complete. Docs stored in Qdrant Cloud.\")\n"
   ]
  },
  {
   "cell_type": "markdown",
   "id": "e090c817",
   "metadata": {},
   "source": [
    "🔹 4. Setup RAG"
   ]
  },
  {
   "cell_type": "code",
   "execution_count": 11,
   "id": "80171af3",
   "metadata": {},
   "outputs": [
    {
     "name": "stdout",
     "output_type": "stream",
     "text": [
      "[LOG] src/ added to sys.path\n",
      "[QdrantDB] Collection 'quickrag_collection' ready with vector size 384\n",
      "[LOG] RAG pipeline ready.\n"
     ]
    }
   ],
   "source": [
    "import sys, os\n",
    "sys.path.append(os.path.abspath(\"../src\"))\n",
    "print(\"[LOG] src/ added to sys.path\")\n",
    "\n",
    "from rag import RAG\n",
    "\n",
    "# Initialize RAG (Qdrant + Groq)\n",
    "rag = RAG()\n",
    "print(\"[LOG] RAG pipeline ready.\")\n"
   ]
  },
  {
   "cell_type": "markdown",
   "id": "84d7994a",
   "metadata": {},
   "source": [
    "🔹 5. Single Query Demo"
   ]
  },
  {
   "cell_type": "code",
   "execution_count": 12,
   "id": "9a377c3c",
   "metadata": {},
   "outputs": [
    {
     "name": "stdout",
     "output_type": "stream",
     "text": [
      "[LOG] Query: How do I reset my password?\n",
      "[RAG] Retrieving top 5 docs for query: How do I reset my password?\n",
      "[Embedder] Embedding 1 texts with batch_size=64\n"
     ]
    },
    {
     "name": "stderr",
     "output_type": "stream",
     "text": [
      "Embedding batches: 100%|██████████| 1/1 [00:00<00:00, 45.46it/s]"
     ]
    },
    {
     "name": "stdout",
     "output_type": "stream",
     "text": [
      "[Embedder] Batch 1: 1 texts\n",
      "[Embedder] Final embeddings shape: (1, 384)\n",
      "[QdrantDB] Searching for top 5 docs.\n"
     ]
    },
    {
     "name": "stderr",
     "output_type": "stream",
     "text": [
      "\n"
     ]
    },
    {
     "name": "stdout",
     "output_type": "stream",
     "text": [
      "[QdrantDB] Found 0 hits.\n",
      "[RAG] Retrieved 0 docs.\n",
      "[LOG] Retrieved 0 docs:\n",
      "\n",
      "[LOG] Generating answer...\n",
      "[RAG] Answering query: How do I reset my password?\n",
      "[RAG] Retrieving top 5 docs for query: How do I reset my password?\n",
      "[Embedder] Embedding 1 texts with batch_size=64\n"
     ]
    },
    {
     "name": "stderr",
     "output_type": "stream",
     "text": [
      "Embedding batches: 100%|██████████| 1/1 [00:00<00:00, 90.92it/s]"
     ]
    },
    {
     "name": "stdout",
     "output_type": "stream",
     "text": [
      "[Embedder] Batch 1: 1 texts\n",
      "[Embedder] Final embeddings shape: (1, 384)\n",
      "[QdrantDB] Searching for top 5 docs.\n"
     ]
    },
    {
     "name": "stderr",
     "output_type": "stream",
     "text": [
      "\n"
     ]
    },
    {
     "name": "stdout",
     "output_type": "stream",
     "text": [
      "[QdrantDB] Found 0 hits.\n",
      "[RAG] Retrieved 0 docs.\n",
      "[RAG] Using Groq for generation.\n",
      "\n",
      "[Answer]:\n",
      " To reset your password, follow these steps:\n",
      "\n",
      "1. Go to the login page of the account you want to reset the password for.\n",
      "2. Click on the \"Forgot Password\" or \"Reset Password\" link.\n",
      "3. Enter the email address or username associated with your account.\n",
      "4. Follow the instructions sent to your email to reset your password.\n",
      "5. Create a new password and confirm it.\n",
      "\n",
      "Retrieved Documents: \n",
      "- User Guide to Account Recovery (Help Center, Section 4.2)\n",
      "- Password Reset Policy (Terms of Service, Article 3.4)\n",
      "- Account Management FAQ (Knowledge Base, Question 12)\n"
     ]
    }
   ],
   "source": [
    "query = \"How do I reset my password?\"\n",
    "print(\"[LOG] Query:\", query)\n",
    "\n",
    "# Retrieve relevant docs\n",
    "retrieved = rag.retrieve(query, top_k=5)\n",
    "print(f\"[LOG] Retrieved {len(retrieved)} docs:\")\n",
    "for i, doc in enumerate(retrieved, 1):\n",
    "    print(f\"Doc {i}:\", doc[:120], \"...\")\n",
    "\n",
    "# Generate answer\n",
    "print(\"\\n[LOG] Generating answer...\")\n",
    "answer = rag.answer(query, top_k=5)\n",
    "print(\"\\n[Answer]:\\n\", answer)\n"
   ]
  },
  {
   "cell_type": "markdown",
   "id": "0ae04914",
   "metadata": {},
   "source": [
    "🔹 6. Multi-Query Demo"
   ]
  },
  {
   "cell_type": "code",
   "execution_count": 13,
   "id": "339bb970",
   "metadata": {},
   "outputs": [
    {
     "name": "stdout",
     "output_type": "stream",
     "text": [
      "\n",
      "==============================\n",
      "[LOG] Query: When is the library open?\n",
      "[RAG] Retrieving top 5 docs for query: When is the library open?\n",
      "[Embedder] Embedding 1 texts with batch_size=64\n"
     ]
    },
    {
     "name": "stderr",
     "output_type": "stream",
     "text": [
      "Embedding batches: 100%|██████████| 1/1 [00:00<00:00, 19.61it/s]"
     ]
    },
    {
     "name": "stdout",
     "output_type": "stream",
     "text": [
      "[Embedder] Batch 1: 1 texts\n",
      "[Embedder] Final embeddings shape: (1, 384)\n",
      "[QdrantDB] Searching for top 5 docs.\n"
     ]
    },
    {
     "name": "stderr",
     "output_type": "stream",
     "text": [
      "\n"
     ]
    },
    {
     "name": "stdout",
     "output_type": "stream",
     "text": [
      "[QdrantDB] Found 0 hits.\n",
      "[RAG] Retrieved 0 docs.\n",
      "[LOG] Retrieved 0 docs:\n",
      "\n",
      "[LOG] Generating answer...\n",
      "[RAG] Answering query: When is the library open?\n",
      "[RAG] Retrieving top 5 docs for query: When is the library open?\n",
      "[Embedder] Embedding 1 texts with batch_size=64\n"
     ]
    },
    {
     "name": "stderr",
     "output_type": "stream",
     "text": [
      "Embedding batches: 100%|██████████| 1/1 [00:00<00:00, 77.01it/s]"
     ]
    },
    {
     "name": "stdout",
     "output_type": "stream",
     "text": [
      "[Embedder] Batch 1: 1 texts\n",
      "[Embedder] Final embeddings shape: (1, 384)\n",
      "[QdrantDB] Searching for top 5 docs.\n"
     ]
    },
    {
     "name": "stderr",
     "output_type": "stream",
     "text": [
      "\n"
     ]
    },
    {
     "name": "stdout",
     "output_type": "stream",
     "text": [
      "[QdrantDB] Found 0 hits.\n",
      "[RAG] Retrieved 0 docs.\n",
      "[RAG] Using Groq for generation.\n",
      "\n",
      "[Answer]:\n",
      " The library's operating hours may vary. However, I can suggest checking their official website or social media for the most accurate information.\n",
      "\n",
      "Typically, libraries have standard operating hours:\n",
      "- Monday to Friday: 8:00 AM - 8:00 PM\n",
      "- Saturday: 9:00 AM - 5:00 PM\n",
      "- Sunday: Closed\n",
      "\n",
      "Please visit the library's website or contact them directly for confirmatory information.\n",
      "\n",
      "==============================\n",
      "[LOG] Query: How do I reset my password?\n",
      "[RAG] Retrieving top 5 docs for query: How do I reset my password?\n",
      "[Embedder] Embedding 1 texts with batch_size=64\n"
     ]
    },
    {
     "name": "stderr",
     "output_type": "stream",
     "text": [
      "Embedding batches: 100%|██████████| 1/1 [00:00<00:00, 83.33it/s]"
     ]
    },
    {
     "name": "stdout",
     "output_type": "stream",
     "text": [
      "[Embedder] Batch 1: 1 texts\n",
      "[Embedder] Final embeddings shape: (1, 384)\n",
      "[QdrantDB] Searching for top 5 docs.\n"
     ]
    },
    {
     "name": "stderr",
     "output_type": "stream",
     "text": [
      "\n"
     ]
    },
    {
     "name": "stdout",
     "output_type": "stream",
     "text": [
      "[QdrantDB] Found 0 hits.\n",
      "[RAG] Retrieved 0 docs.\n",
      "[LOG] Retrieved 0 docs:\n",
      "\n",
      "[LOG] Generating answer...\n",
      "[RAG] Answering query: How do I reset my password?\n",
      "[RAG] Retrieving top 5 docs for query: How do I reset my password?\n",
      "[Embedder] Embedding 1 texts with batch_size=64\n"
     ]
    },
    {
     "name": "stderr",
     "output_type": "stream",
     "text": [
      "Embedding batches: 100%|██████████| 1/1 [00:00<00:00, 100.10it/s]"
     ]
    },
    {
     "name": "stdout",
     "output_type": "stream",
     "text": [
      "[Embedder] Batch 1: 1 texts\n",
      "[Embedder] Final embeddings shape: (1, 384)\n",
      "[QdrantDB] Searching for top 5 docs.\n"
     ]
    },
    {
     "name": "stderr",
     "output_type": "stream",
     "text": [
      "\n"
     ]
    },
    {
     "name": "stdout",
     "output_type": "stream",
     "text": [
      "[QdrantDB] Found 0 hits.\n",
      "[RAG] Retrieved 0 docs.\n",
      "[RAG] Using Groq for generation.\n",
      "\n",
      "[Answer]:\n",
      " To reset your password, follow these steps:\n",
      "\n",
      "1. Go to the sign-in page of the application or website.\n",
      "2. Click on the \"Forgot password\" or \"Reset Password\" link.\n",
      "3. Enter your email address or username associated with your account.\n",
      "4. Follow the instructions sent to your email to reset your password.\n",
      "\n",
      "Retrieved documents:\n",
      "\n",
      "- General password reset procedures for most web applications [1]\n",
      "- Password reset protocol for specific applications (e.g., Google, Facebook) [2]\n",
      "\n",
      "Please note: The steps might vary slightly depending on the specific application or website.\n",
      "\n",
      "References:\n",
      "[1] - General password reset procedures for most web applications.\n",
      "[2] - Password reset protocol for specific applications (e.g., Google, Facebook).\n"
     ]
    }
   ],
   "source": [
    "queries = [\n",
    "    \"When is the library open?\",\n",
    "    \"How do I reset my password?\"\n",
    "]\n",
    "\n",
    "for query in queries:\n",
    "    print(\"\\n==============================\")\n",
    "    print(\"[LOG] Query:\", query)\n",
    "    \n",
    "    # Retrieve top docs\n",
    "    retrieved = rag.retrieve(query, top_k=5)\n",
    "    print(f\"[LOG] Retrieved {len(retrieved)} docs:\")\n",
    "    for i, doc in enumerate(retrieved, 1):\n",
    "        print(f\"Doc {i}:\", doc[:120], \"...\")\n",
    "    \n",
    "    # Generate answer\n",
    "    print(\"\\n[LOG] Generating answer...\")\n",
    "    answer = rag.answer(query, top_k=5)\n",
    "    print(\"\\n[Answer]:\\n\", answer)\n"
   ]
  }
 ],
 "metadata": {
  "kernelspec": {
   "display_name": "venv",
   "language": "python",
   "name": "python3"
  },
  "language_info": {
   "codemirror_mode": {
    "name": "ipython",
    "version": 3
   },
   "file_extension": ".py",
   "mimetype": "text/x-python",
   "name": "python",
   "nbconvert_exporter": "python",
   "pygments_lexer": "ipython3",
   "version": "3.12.6"
  }
 },
 "nbformat": 4,
 "nbformat_minor": 5
}
